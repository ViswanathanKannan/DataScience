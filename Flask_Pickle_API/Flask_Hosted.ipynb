{
 "cells": [
  {
   "cell_type": "code",
   "execution_count": 1,
   "metadata": {
    "collapsed": true
   },
   "outputs": [],
   "source": [
    "from flask import Flask,request, jsonify\n",
    "from sklearn.externals import joblib\n",
    "import pandas as pd"
   ]
  },
  {
   "cell_type": "code",
   "execution_count": 33,
   "metadata": {
    "collapsed": true
   },
   "outputs": [],
   "source": [
    "app = Flask(__name__)\n",
    "@app.route('/predict', methods=['POST'])\n",
    "def predict():\n",
    "     json_ = request.json\n",
    "     query = pd.get_dummies(pd.DataFrame(json_))\n",
    "     query = query.reindex(columns=model_columns, fill_value=0)\n",
    "     print(query)\n",
    "     pred = clf.predict(query)\n",
    "     predictions = pred.tolist()\n",
    "     return jsonify({'prediction': predictions})\n"
   ]
  },
  {
   "cell_type": "code",
   "execution_count": 34,
   "metadata": {},
   "outputs": [
    {
     "name": "stderr",
     "output_type": "stream",
     "text": [
      " * Running on http://127.0.0.1:8081/ (Press CTRL+C to quit)\n",
      "127.0.0.1 - - [21/Jan/2018 22:57:53] \"POST /predict HTTP/1.1\" 200 -\n"
     ]
    },
    {
     "name": "stdout",
     "output_type": "stream",
     "text": [
      "   Age  Embarked_C  Embarked_Q  Embarked_S  Sex_female  Sex_male\n",
      "0   85           0           0           1           0         1\n",
      "1   24           1           0           0           1         0\n",
      "2    3           0           1           0           0         1\n",
      "3   21           0           0           1           0         1\n"
     ]
    },
    {
     "name": "stderr",
     "output_type": "stream",
     "text": [
      "127.0.0.1 - - [21/Jan/2018 22:58:08] \"POST /predict HTTP/1.1\" 200 -\n"
     ]
    },
    {
     "name": "stdout",
     "output_type": "stream",
     "text": [
      "   Age  Embarked_C  Embarked_Q  Embarked_S  Sex_female  Sex_male\n",
      "0   85           0           0           1           0         1\n",
      "1   24           1           0           0           1         0\n",
      "2    3           1           0           0           0         1\n",
      "3   21           0           0           1           0         1\n"
     ]
    },
    {
     "name": "stderr",
     "output_type": "stream",
     "text": [
      "127.0.0.1 - - [21/Jan/2018 22:58:22] \"POST /predict HTTP/1.1\" 200 -\n"
     ]
    },
    {
     "name": "stdout",
     "output_type": "stream",
     "text": [
      "   Age  Embarked_C  Embarked_Q  Embarked_S  Sex_female  Sex_male\n",
      "0   85           0           0           1           0         1\n",
      "1   24           1           0           0           0         1\n",
      "2    3           1           0           0           0         1\n",
      "3   21           0           0           1           0         1\n"
     ]
    }
   ],
   "source": [
    "if __name__ == '__main__':\n",
    "     clf = joblib.load('rfc.pkl')\n",
    "     model_columns = joblib.load('column_names.pkl')\n",
    "     app.run(port=8081)"
   ]
  },
  {
   "cell_type": "code",
   "execution_count": null,
   "metadata": {
    "collapsed": true
   },
   "outputs": [],
   "source": []
  }
 ],
 "metadata": {
  "kernelspec": {
   "display_name": "Python 3",
   "language": "python",
   "name": "python3"
  },
  "language_info": {
   "codemirror_mode": {
    "name": "ipython",
    "version": 3
   },
   "file_extension": ".py",
   "mimetype": "text/x-python",
   "name": "python",
   "nbconvert_exporter": "python",
   "pygments_lexer": "ipython3",
   "version": "3.6.1"
  }
 },
 "nbformat": 4,
 "nbformat_minor": 2
}
