{
 "cells": [
  {
   "cell_type": "code",
   "execution_count": 237,
   "metadata": {
    "collapsed": true
   },
   "outputs": [],
   "source": [
    "import numpy as np\n",
    "import pandas as pd\n",
    "import matplotlib.pyplot as plt\n",
    "import seaborn as sns\n",
    "%matplotlib inline"
   ]
  },
  {
   "cell_type": "markdown",
   "metadata": {},
   "source": [
    "Load Titanic Data"
   ]
  },
  {
   "cell_type": "code",
   "execution_count": 238,
   "metadata": {
    "collapsed": true
   },
   "outputs": [],
   "source": [
    "train = pd.read_csv('titanic_train.csv')\n",
    "test = pd.read_csv(\"titanic_test.csv\")\n",
    "IDtest = test[\"PassengerId\"]\n",
    "train_len = len(train)\n",
    "df =  pd.concat(objs=[train, test], axis=0).reset_index(drop=True)"
   ]
  },
  {
   "cell_type": "markdown",
   "metadata": {},
   "source": [
    "Data Preprocessing"
   ]
  },
  {
   "cell_type": "code",
   "execution_count": 239,
   "metadata": {
    "collapsed": true
   },
   "outputs": [],
   "source": [
    "def determine_age(cols):\n",
    "    age = cols[0]\n",
    "    pclass = cols[1]\n",
    "    if np.isnan(age):\n",
    "        if(pclass == 1):\n",
    "            return 37\n",
    "        elif(pclass==2):\n",
    "            return 29\n",
    "        else:\n",
    "            return 24\n",
    "    else:\n",
    "        return age\n",
    "    \n",
    "df['Age'] = df[['Age','Pclass']].apply(determine_age,axis=1)"
   ]
  },
  {
   "cell_type": "markdown",
   "metadata": {},
   "source": [
    "Get Cabin Initials as a new feature"
   ]
  },
  {
   "cell_type": "code",
   "execution_count": 240,
   "metadata": {
    "collapsed": true
   },
   "outputs": [],
   "source": [
    "def cabinletter (cabin):\n",
    "    if pd.isnull(cabin):\n",
    "        return 'U'\n",
    "    else:\n",
    "        return cabin[0]\n",
    "    \n",
    "##To Avoid Overfitting\n",
    "df['CabinInit'] = df['Cabin'].apply(cabinletter)"
   ]
  },
  {
   "cell_type": "markdown",
   "metadata": {},
   "source": [
    "Get Title and Name length as 2 new feature"
   ]
  },
  {
   "cell_type": "code",
   "execution_count": 241,
   "metadata": {
    "collapsed": true
   },
   "outputs": [],
   "source": [
    "df['Title']= df['Name'].apply(lambda name:name.split('.')[0].split(',')[1].strip())"
   ]
  },
  {
   "cell_type": "code",
   "execution_count": 242,
   "metadata": {
    "collapsed": true
   },
   "outputs": [],
   "source": [
    "df['NameLength'] = df['Name'].apply(lambda name:len(name.strip()))"
   ]
  },
  {
   "cell_type": "code",
   "execution_count": 243,
   "metadata": {
    "collapsed": true
   },
   "outputs": [],
   "source": [
    "df['Ticket_Lett'] = df['Ticket'].apply(lambda x: str(x)[0])\n",
    "df['Ticket_Lett'] = df['Ticket_Lett'].apply(lambda x: str(x))\n",
    "df['Ticket_Lett'] = np.where((df['Ticket_Lett']).isin(['1', '2', '3', 'S', 'P', 'C', 'A']), df['Ticket_Lett'],\n",
    "                                  np.where((df['Ticket_Lett']).isin(['W', '4', '7', '6', 'L', '5', '8']),\n",
    "                                            'Low_ticket', 'Other_ticket'))"
   ]
  },
  {
   "cell_type": "code",
   "execution_count": 244,
   "metadata": {
    "collapsed": true
   },
   "outputs": [],
   "source": [
    "def standardize_title(title):\n",
    "    if title.lower() in ['mr','miss','mrs','master']:\n",
    "        return title\n",
    "    elif title.lower() in ['ms','mlle']:\n",
    "        return 'Miss'\n",
    "    elif title.lower() in ['mme']:\n",
    "        return 'Mrs'\n",
    "    else:\n",
    "        return 'Rare'\n",
    "df['Title'] = df['Title'].apply(standardize_title)"
   ]
  },
  {
   "cell_type": "code",
   "execution_count": 245,
   "metadata": {
    "collapsed": true
   },
   "outputs": [],
   "source": [
    "df['FamilySize'] = df[['Parch','SibSp']].apply(lambda cols:cols[0]+cols[1] +1,axis=1)"
   ]
  },
  {
   "cell_type": "code",
   "execution_count": 246,
   "metadata": {
    "collapsed": true
   },
   "outputs": [],
   "source": [
    "def normalizefare(cols):\n",
    "    Ticket = cols[0]\n",
    "    Fare = cols[1]\n",
    "    pplinsameticket = len(df[df['Ticket'] == Ticket])   \n",
    "    if(pplinsameticket > 1):\n",
    "        Fare = Fare/pplinsameticket\n",
    "    return Fare"
   ]
  },
  {
   "cell_type": "code",
   "execution_count": 247,
   "metadata": {
    "collapsed": true
   },
   "outputs": [],
   "source": [
    " df['Fare'] = df[['Ticket','Fare']].apply(normalizefare,axis=1)"
   ]
  },
  {
   "cell_type": "code",
   "execution_count": 248,
   "metadata": {
    "collapsed": true
   },
   "outputs": [],
   "source": [
    "def FareCategory(Fare):\n",
    "    if Fare >60:\n",
    "        return 'High'\n",
    "    elif Fare <= 60 and Fare >40:\n",
    "        return 'Medium'\n",
    "    else:\n",
    "        return 'Low'"
   ]
  },
  {
   "cell_type": "code",
   "execution_count": 249,
   "metadata": {
    "collapsed": true
   },
   "outputs": [],
   "source": [
    "#df['FareCategory'] = df['Fare'].apply(FareCategory)"
   ]
  },
  {
   "cell_type": "code",
   "execution_count": 250,
   "metadata": {
    "collapsed": true
   },
   "outputs": [],
   "source": [
    "def GroupSurvival(ticket):\n",
    "    GroupSurvival = 0\n",
    "    if len(df[df['Ticket'] == ticket]) > 3:\n",
    "        SurvivedInTicket = len(df[(df['Ticket'] == ticket) & (df['Survived'] == 1)])\n",
    "        DeadInTicket = len(df[(df['Ticket'] == ticket) & (df['Survived'] == 0)])\n",
    "        if(SurvivedInTicket+DeadInTicket > 2):\n",
    "            GroupSurvival = SurvivedInTicket/(SurvivedInTicket + DeadInTicket)\n",
    "    if GroupSurvival < 0.4:\n",
    "        return 'low'\n",
    "    if (GroupSurvival >= 0.4) & (GroupSurvival <= 0.6):\n",
    "        return 'Medium'\n",
    "    else:\n",
    "        return 'High'\n",
    "\n",
    "\n",
    "def TravelInGroup(ticket):\n",
    "    if len(df[df['Ticket'] == ticket]) > 3:\n",
    "        return 1.0\n",
    "    else:\n",
    "        return 0.0"
   ]
  },
  {
   "cell_type": "code",
   "execution_count": 251,
   "metadata": {
    "collapsed": true
   },
   "outputs": [],
   "source": [
    "df['PartofGroup'] = df['Ticket'].apply(TravelInGroup)"
   ]
  },
  {
   "cell_type": "code",
   "execution_count": 252,
   "metadata": {
    "collapsed": true
   },
   "outputs": [],
   "source": [
    "df['GroupSurvival'] = df['Ticket'].apply(GroupSurvival)"
   ]
  },
  {
   "cell_type": "code",
   "execution_count": 253,
   "metadata": {},
   "outputs": [
    {
     "data": {
      "text/html": [
       "<div>\n",
       "<style>\n",
       "    .dataframe thead tr:only-child th {\n",
       "        text-align: right;\n",
       "    }\n",
       "\n",
       "    .dataframe thead th {\n",
       "        text-align: left;\n",
       "    }\n",
       "\n",
       "    .dataframe tbody tr th {\n",
       "        vertical-align: top;\n",
       "    }\n",
       "</style>\n",
       "<table border=\"1\" class=\"dataframe\">\n",
       "  <thead>\n",
       "    <tr style=\"text-align: right;\">\n",
       "      <th></th>\n",
       "      <th>Age</th>\n",
       "      <th>Cabin</th>\n",
       "      <th>Embarked</th>\n",
       "      <th>Fare</th>\n",
       "      <th>Name</th>\n",
       "      <th>Parch</th>\n",
       "      <th>PassengerId</th>\n",
       "      <th>Pclass</th>\n",
       "      <th>Sex</th>\n",
       "      <th>SibSp</th>\n",
       "      <th>Survived</th>\n",
       "      <th>Ticket</th>\n",
       "      <th>CabinInit</th>\n",
       "      <th>Title</th>\n",
       "      <th>NameLength</th>\n",
       "      <th>Ticket_Lett</th>\n",
       "      <th>FamilySize</th>\n",
       "      <th>PartofGroup</th>\n",
       "      <th>GroupSurvival</th>\n",
       "    </tr>\n",
       "  </thead>\n",
       "  <tbody>\n",
       "    <tr>\n",
       "      <th>0</th>\n",
       "      <td>22.0</td>\n",
       "      <td>NaN</td>\n",
       "      <td>S</td>\n",
       "      <td>7.25000</td>\n",
       "      <td>Braund, Mr. Owen Harris</td>\n",
       "      <td>0</td>\n",
       "      <td>1</td>\n",
       "      <td>3</td>\n",
       "      <td>male</td>\n",
       "      <td>1</td>\n",
       "      <td>0.0</td>\n",
       "      <td>A/5 21171</td>\n",
       "      <td>U</td>\n",
       "      <td>Mr</td>\n",
       "      <td>23</td>\n",
       "      <td>A</td>\n",
       "      <td>2</td>\n",
       "      <td>0.0</td>\n",
       "      <td>low</td>\n",
       "    </tr>\n",
       "    <tr>\n",
       "      <th>1</th>\n",
       "      <td>38.0</td>\n",
       "      <td>C85</td>\n",
       "      <td>C</td>\n",
       "      <td>35.64165</td>\n",
       "      <td>Cumings, Mrs. John Bradley (Florence Briggs Th...</td>\n",
       "      <td>0</td>\n",
       "      <td>2</td>\n",
       "      <td>1</td>\n",
       "      <td>female</td>\n",
       "      <td>1</td>\n",
       "      <td>1.0</td>\n",
       "      <td>PC 17599</td>\n",
       "      <td>C</td>\n",
       "      <td>Mrs</td>\n",
       "      <td>51</td>\n",
       "      <td>P</td>\n",
       "      <td>2</td>\n",
       "      <td>0.0</td>\n",
       "      <td>low</td>\n",
       "    </tr>\n",
       "  </tbody>\n",
       "</table>\n",
       "</div>"
      ],
      "text/plain": [
       "    Age Cabin Embarked      Fare  \\\n",
       "0  22.0   NaN        S   7.25000   \n",
       "1  38.0   C85        C  35.64165   \n",
       "\n",
       "                                                Name  Parch  PassengerId  \\\n",
       "0                            Braund, Mr. Owen Harris      0            1   \n",
       "1  Cumings, Mrs. John Bradley (Florence Briggs Th...      0            2   \n",
       "\n",
       "   Pclass     Sex  SibSp  Survived     Ticket CabinInit Title  NameLength  \\\n",
       "0       3    male      1       0.0  A/5 21171         U    Mr          23   \n",
       "1       1  female      1       1.0   PC 17599         C   Mrs          51   \n",
       "\n",
       "  Ticket_Lett  FamilySize  PartofGroup GroupSurvival  \n",
       "0           A           2          0.0           low  \n",
       "1           P           2          0.0           low  "
      ]
     },
     "execution_count": 253,
     "metadata": {},
     "output_type": "execute_result"
    }
   ],
   "source": [
    "df.head(2)"
   ]
  },
  {
   "cell_type": "code",
   "execution_count": 254,
   "metadata": {
    "collapsed": true
   },
   "outputs": [],
   "source": [
    "df['Fare'].fillna(0,inplace=True)"
   ]
  },
  {
   "cell_type": "code",
   "execution_count": 255,
   "metadata": {
    "collapsed": true
   },
   "outputs": [],
   "source": [
    "df['Embarked'].fillna('S',inplace=True)"
   ]
  },
  {
   "cell_type": "code",
   "execution_count": 256,
   "metadata": {
    "collapsed": true
   },
   "outputs": [],
   "source": [
    "df['FareBin'] = pd.qcut(df['Fare'], 4)"
   ]
  },
  {
   "cell_type": "code",
   "execution_count": 257,
   "metadata": {
    "collapsed": true
   },
   "outputs": [],
   "source": [
    "df['AgeBin'] = pd.cut(df['Age'].astype(int), 5)"
   ]
  },
  {
   "cell_type": "code",
   "execution_count": 258,
   "metadata": {},
   "outputs": [
    {
     "data": {
      "text/html": [
       "<div>\n",
       "<style>\n",
       "    .dataframe thead tr:only-child th {\n",
       "        text-align: right;\n",
       "    }\n",
       "\n",
       "    .dataframe thead th {\n",
       "        text-align: left;\n",
       "    }\n",
       "\n",
       "    .dataframe tbody tr th {\n",
       "        vertical-align: top;\n",
       "    }\n",
       "</style>\n",
       "<table border=\"1\" class=\"dataframe\">\n",
       "  <thead>\n",
       "    <tr style=\"text-align: right;\">\n",
       "      <th></th>\n",
       "      <th>Age</th>\n",
       "      <th>Cabin</th>\n",
       "      <th>Embarked</th>\n",
       "      <th>Fare</th>\n",
       "      <th>Name</th>\n",
       "      <th>Parch</th>\n",
       "      <th>PassengerId</th>\n",
       "      <th>Pclass</th>\n",
       "      <th>Sex</th>\n",
       "      <th>SibSp</th>\n",
       "      <th>...</th>\n",
       "      <th>Ticket</th>\n",
       "      <th>CabinInit</th>\n",
       "      <th>Title</th>\n",
       "      <th>NameLength</th>\n",
       "      <th>Ticket_Lett</th>\n",
       "      <th>FamilySize</th>\n",
       "      <th>PartofGroup</th>\n",
       "      <th>GroupSurvival</th>\n",
       "      <th>FareBin</th>\n",
       "      <th>AgeBin</th>\n",
       "    </tr>\n",
       "  </thead>\n",
       "  <tbody>\n",
       "    <tr>\n",
       "      <th>0</th>\n",
       "      <td>22.0</td>\n",
       "      <td>NaN</td>\n",
       "      <td>S</td>\n",
       "      <td>7.25000</td>\n",
       "      <td>Braund, Mr. Owen Harris</td>\n",
       "      <td>0</td>\n",
       "      <td>1</td>\n",
       "      <td>3</td>\n",
       "      <td>male</td>\n",
       "      <td>1</td>\n",
       "      <td>...</td>\n",
       "      <td>A/5 21171</td>\n",
       "      <td>U</td>\n",
       "      <td>Mr</td>\n",
       "      <td>23</td>\n",
       "      <td>A</td>\n",
       "      <td>2</td>\n",
       "      <td>0.0</td>\n",
       "      <td>low</td>\n",
       "      <td>(-0.001, 7.55]</td>\n",
       "      <td>(16.0, 32.0]</td>\n",
       "    </tr>\n",
       "    <tr>\n",
       "      <th>1</th>\n",
       "      <td>38.0</td>\n",
       "      <td>C85</td>\n",
       "      <td>C</td>\n",
       "      <td>35.64165</td>\n",
       "      <td>Cumings, Mrs. John Bradley (Florence Briggs Th...</td>\n",
       "      <td>0</td>\n",
       "      <td>2</td>\n",
       "      <td>1</td>\n",
       "      <td>female</td>\n",
       "      <td>1</td>\n",
       "      <td>...</td>\n",
       "      <td>PC 17599</td>\n",
       "      <td>C</td>\n",
       "      <td>Mrs</td>\n",
       "      <td>51</td>\n",
       "      <td>P</td>\n",
       "      <td>2</td>\n",
       "      <td>0.0</td>\n",
       "      <td>low</td>\n",
       "      <td>(15.0, 128.082]</td>\n",
       "      <td>(32.0, 48.0]</td>\n",
       "    </tr>\n",
       "  </tbody>\n",
       "</table>\n",
       "<p>2 rows × 21 columns</p>\n",
       "</div>"
      ],
      "text/plain": [
       "    Age Cabin Embarked      Fare  \\\n",
       "0  22.0   NaN        S   7.25000   \n",
       "1  38.0   C85        C  35.64165   \n",
       "\n",
       "                                                Name  Parch  PassengerId  \\\n",
       "0                            Braund, Mr. Owen Harris      0            1   \n",
       "1  Cumings, Mrs. John Bradley (Florence Briggs Th...      0            2   \n",
       "\n",
       "   Pclass     Sex  SibSp      ...          Ticket CabinInit Title NameLength  \\\n",
       "0       3    male      1      ...       A/5 21171         U    Mr         23   \n",
       "1       1  female      1      ...        PC 17599         C   Mrs         51   \n",
       "\n",
       "   Ticket_Lett FamilySize  PartofGroup  GroupSurvival          FareBin  \\\n",
       "0            A          2          0.0            low   (-0.001, 7.55]   \n",
       "1            P          2          0.0            low  (15.0, 128.082]   \n",
       "\n",
       "         AgeBin  \n",
       "0  (16.0, 32.0]  \n",
       "1  (32.0, 48.0]  \n",
       "\n",
       "[2 rows x 21 columns]"
      ]
     },
     "execution_count": 258,
     "metadata": {},
     "output_type": "execute_result"
    }
   ],
   "source": [
    "df.head(2)"
   ]
  },
  {
   "cell_type": "code",
   "execution_count": 259,
   "metadata": {
    "collapsed": true
   },
   "outputs": [],
   "source": [
    "df_dummies = pd.get_dummies(df[['Embarked','Title','Sex','CabinInit','AgeBin','FareBin', 'GroupSurvival','Ticket_Lett']],drop_first=True) #,'CabinInit','FareCategory','AgeBin','FareBin'\n",
    "df = pd.concat([df,df_dummies], axis=1)\n",
    "df.drop(labels = ['Embarked','Title','Sex','FareBin','AgeBin','CabinInit','GroupSurvival','Ticket_Lett'],axis=1, inplace=True) #,'CabinInit','FareCategory'"
   ]
  },
  {
   "cell_type": "code",
   "execution_count": 260,
   "metadata": {
    "collapsed": true
   },
   "outputs": [],
   "source": [
    "df.drop(labels = ['Name','Ticket','Cabin'],axis=1, inplace=True )"
   ]
  },
  {
   "cell_type": "code",
   "execution_count": 261,
   "metadata": {},
   "outputs": [
    {
     "data": {
      "text/plain": [
       "<matplotlib.axes._subplots.AxesSubplot at 0x280076d21d0>"
      ]
     },
     "execution_count": 261,
     "metadata": {},
     "output_type": "execute_result"
    },
    {
     "data": {
      "image/png": "[encoded data removed]",
      "text/plain": [
       "<matplotlib.figure.Figure at 0x2800756cd30>"
      ]
     },
     "metadata": {},
     "output_type": "display_data"
    }
   ],
   "source": [
    "sns.heatmap(df.isnull(),annot=False, yticklabels=False,cbar=False,cmap='viridis')"
   ]
  },
  {
   "cell_type": "code",
   "execution_count": 262,
   "metadata": {},
   "outputs": [
    {
     "data": {
      "text/html": [
       "<div>\n",
       "<style>\n",
       "    .dataframe thead tr:only-child th {\n",
       "        text-align: right;\n",
       "    }\n",
       "\n",
       "    .dataframe thead th {\n",
       "        text-align: left;\n",
       "    }\n",
       "\n",
       "    .dataframe tbody tr th {\n",
       "        vertical-align: top;\n",
       "    }\n",
       "</style>\n",
       "<table border=\"1\" class=\"dataframe\">\n",
       "  <thead>\n",
       "    <tr style=\"text-align: right;\">\n",
       "      <th></th>\n",
       "      <th>Age</th>\n",
       "      <th>Fare</th>\n",
       "      <th>Parch</th>\n",
       "      <th>PassengerId</th>\n",
       "      <th>Pclass</th>\n",
       "      <th>SibSp</th>\n",
       "      <th>Survived</th>\n",
       "      <th>NameLength</th>\n",
       "      <th>FamilySize</th>\n",
       "      <th>PartofGroup</th>\n",
       "      <th>...</th>\n",
       "      <th>GroupSurvival_Medium</th>\n",
       "      <th>GroupSurvival_low</th>\n",
       "      <th>Ticket_Lett_2</th>\n",
       "      <th>Ticket_Lett_3</th>\n",
       "      <th>Ticket_Lett_A</th>\n",
       "      <th>Ticket_Lett_C</th>\n",
       "      <th>Ticket_Lett_Low_ticket</th>\n",
       "      <th>Ticket_Lett_Other_ticket</th>\n",
       "      <th>Ticket_Lett_P</th>\n",
       "      <th>Ticket_Lett_S</th>\n",
       "    </tr>\n",
       "  </thead>\n",
       "  <tbody>\n",
       "    <tr>\n",
       "      <th>0</th>\n",
       "      <td>22.0</td>\n",
       "      <td>7.25000</td>\n",
       "      <td>0</td>\n",
       "      <td>1</td>\n",
       "      <td>3</td>\n",
       "      <td>1</td>\n",
       "      <td>0.0</td>\n",
       "      <td>23</td>\n",
       "      <td>2</td>\n",
       "      <td>0.0</td>\n",
       "      <td>...</td>\n",
       "      <td>0</td>\n",
       "      <td>1</td>\n",
       "      <td>0</td>\n",
       "      <td>0</td>\n",
       "      <td>1</td>\n",
       "      <td>0</td>\n",
       "      <td>0</td>\n",
       "      <td>0</td>\n",
       "      <td>0</td>\n",
       "      <td>0</td>\n",
       "    </tr>\n",
       "    <tr>\n",
       "      <th>1</th>\n",
       "      <td>38.0</td>\n",
       "      <td>35.64165</td>\n",
       "      <td>0</td>\n",
       "      <td>2</td>\n",
       "      <td>1</td>\n",
       "      <td>1</td>\n",
       "      <td>1.0</td>\n",
       "      <td>51</td>\n",
       "      <td>2</td>\n",
       "      <td>0.0</td>\n",
       "      <td>...</td>\n",
       "      <td>0</td>\n",
       "      <td>1</td>\n",
       "      <td>0</td>\n",
       "      <td>0</td>\n",
       "      <td>0</td>\n",
       "      <td>0</td>\n",
       "      <td>0</td>\n",
       "      <td>0</td>\n",
       "      <td>1</td>\n",
       "      <td>0</td>\n",
       "    </tr>\n",
       "  </tbody>\n",
       "</table>\n",
       "<p>2 rows × 42 columns</p>\n",
       "</div>"
      ],
      "text/plain": [
       "    Age      Fare  Parch  PassengerId  Pclass  SibSp  Survived  NameLength  \\\n",
       "0  22.0   7.25000      0            1       3      1       0.0          23   \n",
       "1  38.0  35.64165      0            2       1      1       1.0          51   \n",
       "\n",
       "   FamilySize  PartofGroup      ...        GroupSurvival_Medium  \\\n",
       "0           2          0.0      ...                           0   \n",
       "1           2          0.0      ...                           0   \n",
       "\n",
       "   GroupSurvival_low  Ticket_Lett_2  Ticket_Lett_3  Ticket_Lett_A  \\\n",
       "0                  1              0              0              1   \n",
       "1                  1              0              0              0   \n",
       "\n",
       "   Ticket_Lett_C  Ticket_Lett_Low_ticket  Ticket_Lett_Other_ticket  \\\n",
       "0              0                       0                         0   \n",
       "1              0                       0                         0   \n",
       "\n",
       "   Ticket_Lett_P  Ticket_Lett_S  \n",
       "0              0              0  \n",
       "1              1              0  \n",
       "\n",
       "[2 rows x 42 columns]"
      ]
     },
     "execution_count": 262,
     "metadata": {},
     "output_type": "execute_result"
    }
   ],
   "source": [
    "df.head(2)"
   ]
  },
  {
   "cell_type": "code",
   "execution_count": 263,
   "metadata": {
    "collapsed": true
   },
   "outputs": [],
   "source": [
    "train = df[:train_len]\n",
    "test = pd.DataFrame.copy(df[train_len:], deep=True)"
   ]
  },
  {
   "cell_type": "code",
   "execution_count": 264,
   "metadata": {
    "collapsed": true
   },
   "outputs": [],
   "source": [
    "test.drop('PassengerId', axis=1, inplace =True)\n",
    "test.drop('Survived', axis=1, inplace =True)"
   ]
  },
  {
   "cell_type": "code",
   "execution_count": 265,
   "metadata": {
    "collapsed": true
   },
   "outputs": [],
   "source": [
    "X = train.drop(labels= ['PassengerId','Survived'],axis=1)\n",
    "y = train['Survived']"
   ]
  },
  {
   "cell_type": "markdown",
   "metadata": {},
   "source": [
    "Check for Outlier"
   ]
  },
  {
   "cell_type": "code",
   "execution_count": 266,
   "metadata": {
    "collapsed": true
   },
   "outputs": [],
   "source": [
    "# 1st quartile (25%)\n",
    "Q1 = np.percentile(df['Age'], 25)\n",
    "# 3rd quartile (75%)\n",
    "Q3 = np.percentile(df['Age'],75)\n",
    "# Interquartile range (IQR)\n",
    "IQR = Q3 - Q1\n",
    "# outlier step\n",
    "outlier_step = 1.5 * IQR\n",
    "\n",
    "# Determine a list of indices of outliers for feature col\n",
    "outlier_list_col = df[(df['Age'] < Q1 - outlier_step) | (df['Age'] > Q3 + outlier_step )].index\n",
    "\n",
    "# There are outlier problem in titanic to deal , the above code is for reference"
   ]
  },
  {
   "cell_type": "markdown",
   "metadata": {},
   "source": [
    "Modelling with common algorithms"
   ]
  },
  {
   "cell_type": "code",
   "execution_count": 267,
   "metadata": {
    "collapsed": true
   },
   "outputs": [],
   "source": [
    "from sklearn.ensemble import RandomForestClassifier, AdaBoostClassifier, GradientBoostingClassifier, ExtraTreesClassifier, VotingClassifier\n",
    "from sklearn.discriminant_analysis import LinearDiscriminantAnalysis\n",
    "from sklearn.linear_model import LogisticRegression\n",
    "from sklearn.neighbors import KNeighborsClassifier\n",
    "from sklearn.tree import DecisionTreeClassifier\n",
    "from sklearn.svm import SVC"
   ]
  },
  {
   "cell_type": "code",
   "execution_count": 268,
   "metadata": {
    "collapsed": true
   },
   "outputs": [],
   "source": [
    "from sklearn.model_selection import GridSearchCV, cross_val_score, StratifiedKFold, learning_curve\n",
    "from sklearn.metrics import classification,confusion_matrix"
   ]
  },
  {
   "cell_type": "markdown",
   "metadata": {},
   "source": [
    "Try Stratified K Fold Cross validation "
   ]
  },
  {
   "cell_type": "code",
   "execution_count": 269,
   "metadata": {
    "collapsed": true
   },
   "outputs": [],
   "source": [
    "kfold = StratifiedKFold(n_splits = 10,shuffle=False)"
   ]
  },
  {
   "cell_type": "code",
   "execution_count": 270,
   "metadata": {},
   "outputs": [
    {
     "name": "stdout",
     "output_type": "stream",
     "text": [
      "<class 'pandas.core.frame.DataFrame'>\n",
      "RangeIndex: 891 entries, 0 to 890\n",
      "Data columns (total 40 columns):\n",
      "Age                         891 non-null float64\n",
      "Fare                        891 non-null float64\n",
      "Parch                       891 non-null int64\n",
      "Pclass                      891 non-null int64\n",
      "SibSp                       891 non-null int64\n",
      "NameLength                  891 non-null int64\n",
      "FamilySize                  891 non-null int64\n",
      "PartofGroup                 891 non-null float64\n",
      "Embarked_Q                  891 non-null uint8\n",
      "Embarked_S                  891 non-null uint8\n",
      "Title_Miss                  891 non-null uint8\n",
      "Title_Mr                    891 non-null uint8\n",
      "Title_Mrs                   891 non-null uint8\n",
      "Title_Rare                  891 non-null uint8\n",
      "Sex_male                    891 non-null uint8\n",
      "CabinInit_B                 891 non-null uint8\n",
      "CabinInit_C                 891 non-null uint8\n",
      "CabinInit_D                 891 non-null uint8\n",
      "CabinInit_E                 891 non-null uint8\n",
      "CabinInit_F                 891 non-null uint8\n",
      "CabinInit_G                 891 non-null uint8\n",
      "CabinInit_T                 891 non-null uint8\n",
      "CabinInit_U                 891 non-null uint8\n",
      "AgeBin_(16.0, 32.0]         891 non-null uint8\n",
      "AgeBin_(32.0, 48.0]         891 non-null uint8\n",
      "AgeBin_(48.0, 64.0]         891 non-null uint8\n",
      "AgeBin_(64.0, 80.0]         891 non-null uint8\n",
      "FareBin_(7.55, 8.05]        891 non-null uint8\n",
      "FareBin_(8.05, 15.0]        891 non-null uint8\n",
      "FareBin_(15.0, 128.082]     891 non-null uint8\n",
      "GroupSurvival_Medium        891 non-null uint8\n",
      "GroupSurvival_low           891 non-null uint8\n",
      "Ticket_Lett_2               891 non-null uint8\n",
      "Ticket_Lett_3               891 non-null uint8\n",
      "Ticket_Lett_A               891 non-null uint8\n",
      "Ticket_Lett_C               891 non-null uint8\n",
      "Ticket_Lett_Low_ticket      891 non-null uint8\n",
      "Ticket_Lett_Other_ticket    891 non-null uint8\n",
      "Ticket_Lett_P               891 non-null uint8\n",
      "Ticket_Lett_S               891 non-null uint8\n",
      "dtypes: float64(3), int64(5), uint8(32)\n",
      "memory usage: 83.6 KB\n"
     ]
    }
   ],
   "source": [
    "X.info()"
   ]
  },
  {
   "cell_type": "code",
   "execution_count": 271,
   "metadata": {},
   "outputs": [
    {
     "name": "stdout",
     "output_type": "stream",
     "text": [
      "Fitting 10 folds for each of 3 candidates, totalling 30 fits\n"
     ]
    },
    {
     "name": "stderr",
     "output_type": "stream",
     "text": [
      "[Parallel(n_jobs=4)]: Done  30 out of  30 | elapsed:   59.2s finished\n"
     ]
    },
    {
     "data": {
      "text/plain": [
       "0.83389450056116721"
      ]
     },
     "execution_count": 271,
     "metadata": {},
     "output_type": "execute_result"
    }
   ],
   "source": [
    "lrm = LogisticRegression(random_state=12)\n",
    "lrm_param_grid = {\"C\":[1,100,1000],\n",
    "                 }\n",
    "lrmGS = GridSearchCV(lrm,param_grid = lrm_param_grid, cv=kfold, scoring=\"accuracy\", n_jobs= 4, verbose = 1)\n",
    "lrmGS.fit(X,y)\n",
    "lrm_best = lrmGS.best_estimator_\n",
    "\n",
    "lrmGS.best_score_\n",
    "\n",
    "#CV_Result = cross_val_score(lrm,X,y, scoring='accuracy',cv=kfold)\n",
    "#print(CV_Result.mean())\n",
    "#print(CV_Result.std())"
   ]
  },
  {
   "cell_type": "code",
   "execution_count": 272,
   "metadata": {},
   "outputs": [
    {
     "data": {
      "text/plain": [
       "LogisticRegression(C=1, class_weight=None, dual=False, fit_intercept=True,\n",
       "          intercept_scaling=1, max_iter=100, multi_class='ovr', n_jobs=1,\n",
       "          penalty='l2', random_state=12, solver='liblinear', tol=0.0001,\n",
       "          verbose=0, warm_start=False)"
      ]
     },
     "execution_count": 272,
     "metadata": {},
     "output_type": "execute_result"
    }
   ],
   "source": [
    "lrm_best"
   ]
  },
  {
   "cell_type": "code",
   "execution_count": 273,
   "metadata": {},
   "outputs": [
    {
     "data": {
      "text/plain": [
       "LogisticRegression(C=1, class_weight=None, dual=False, fit_intercept=True,\n",
       "          intercept_scaling=1, max_iter=100, multi_class='ovr', n_jobs=1,\n",
       "          penalty='l2', random_state=12, solver='liblinear', tol=0.0001,\n",
       "          verbose=0, warm_start=False)"
      ]
     },
     "execution_count": 273,
     "metadata": {},
     "output_type": "execute_result"
    }
   ],
   "source": [
    "lrm_best"
   ]
  },
  {
   "cell_type": "code",
   "execution_count": 274,
   "metadata": {},
   "outputs": [
    {
     "data": {
      "text/plain": [
       "LogisticRegression(C=1, class_weight=None, dual=False, fit_intercept=True,\n",
       "          intercept_scaling=1, max_iter=100, multi_class='ovr', n_jobs=1,\n",
       "          penalty='l2', random_state=12, solver='liblinear', tol=0.0001,\n",
       "          verbose=0, warm_start=False)"
      ]
     },
     "execution_count": 274,
     "metadata": {},
     "output_type": "execute_result"
    }
   ],
   "source": [
    "lrm_best"
   ]
  },
  {
   "cell_type": "code",
   "execution_count": 275,
   "metadata": {
    "collapsed": true
   },
   "outputs": [],
   "source": [
    "#Common Model Algorithms\n",
    "from sklearn import svm, tree, linear_model, neighbors, naive_bayes, ensemble, discriminant_analysis, gaussian_process\n",
    "from sklearn.model_selection import ShuffleSplit,cross_validate\n"
   ]
  },
  {
   "cell_type": "code",
   "execution_count": 276,
   "metadata": {},
   "outputs": [
    {
     "name": "stderr",
     "output_type": "stream",
     "text": [
      "D:\\MachineLearn\\Anaconda\\lib\\site-packages\\sklearn\\linear_model\\stochastic_gradient.py:84: FutureWarning: max_iter and tol parameters have been added in <class 'sklearn.linear_model.passive_aggressive.PassiveAggressiveClassifier'> in 0.19. If both are left unset, they default to max_iter=5 and tol=None. If tol is not None, max_iter defaults to max_iter=1000. From 0.21, default max_iter will be 1000, and default tol will be 1e-3.\n",
      "  \"and default tol will be 1e-3.\" % type(self), FutureWarning)\n",
      "D:\\MachineLearn\\Anaconda\\lib\\site-packages\\sklearn\\linear_model\\stochastic_gradient.py:84: FutureWarning: max_iter and tol parameters have been added in <class 'sklearn.linear_model.stochastic_gradient.SGDClassifier'> in 0.19. If both are left unset, they default to max_iter=5 and tol=None. If tol is not None, max_iter defaults to max_iter=1000. From 0.21, default max_iter will be 1000, and default tol will be 1e-3.\n",
      "  \"and default tol will be 1e-3.\" % type(self), FutureWarning)\n",
      "D:\\MachineLearn\\Anaconda\\lib\\site-packages\\sklearn\\linear_model\\stochastic_gradient.py:84: FutureWarning: max_iter and tol parameters have been added in <class 'sklearn.linear_model.perceptron.Perceptron'> in 0.19. If both are left unset, they default to max_iter=5 and tol=None. If tol is not None, max_iter defaults to max_iter=1000. From 0.21, default max_iter will be 1000, and default tol will be 1e-3.\n",
      "  \"and default tol will be 1e-3.\" % type(self), FutureWarning)\n"
     ]
    }
   ],
   "source": [
    "#Machine Learning Algorithm (MLA) Selection and initialization\n",
    "MLA = [\n",
    "    #Ensemble Methods\n",
    "    ensemble.AdaBoostClassifier(),\n",
    "    ensemble.BaggingClassifier(),\n",
    "    ensemble.ExtraTreesClassifier(),\n",
    "    ensemble.GradientBoostingClassifier(),\n",
    "    ensemble.RandomForestClassifier(n_estimators = 20),\n",
    "\n",
    "    #Gaussian Processes\n",
    "    gaussian_process.GaussianProcessClassifier(),\n",
    "    \n",
    "    #GLM\n",
    "    linear_model.LogisticRegressionCV(),\n",
    "    linear_model.PassiveAggressiveClassifier(),\n",
    "    linear_model. RidgeClassifierCV(),\n",
    "    linear_model.SGDClassifier(),\n",
    "    linear_model.Perceptron(),\n",
    "    \n",
    "    #Navies Bayes\n",
    "    naive_bayes.GaussianNB(),\n",
    "    \n",
    "    #Nearest Neighbor\n",
    "    neighbors.KNeighborsClassifier(n_neighbors = 3),\n",
    "    \n",
    "    #SVM\n",
    "    svm.SVC(probability=True),\n",
    "    svm.LinearSVC(),\n",
    "    \n",
    "    #Trees    \n",
    "    tree.DecisionTreeClassifier(),\n",
    "    tree.ExtraTreeClassifier(),\n",
    "    \n",
    "    ]\n",
    "\n",
    "\n",
    "\n",
    "#split dataset in cross-validation with this splitter class: http://scikit-learn.org/stable/modules/generated/sklearn.model_selection.ShuffleSplit.html#sklearn.model_selection.ShuffleSplit\n",
    "#note: this is an alternative to train_test_split\n",
    "cv_split = ShuffleSplit(n_splits = 10, test_size = .3, train_size = .6, random_state = 0 ) # run model 10x with 60/30 split intentionally leaving out 10%\n",
    "\n",
    "#create table to compare MLA\n",
    "MLA_columns = ['MLA Name', 'MLA Parameters','MLA Train Accuracy Mean', 'MLA Test Accuracy Mean', 'MLA Test Accuracy Min' ,'MLA Time']\n",
    "MLA_compare = pd.DataFrame(columns = MLA_columns)\n",
    "\n",
    "\n"
   ]
  },
  {
   "cell_type": "code",
   "execution_count": 277,
   "metadata": {},
   "outputs": [
    {
     "data": {
      "text/html": [
       "<div>\n",
       "<style>\n",
       "    .dataframe thead tr:only-child th {\n",
       "        text-align: right;\n",
       "    }\n",
       "\n",
       "    .dataframe thead th {\n",
       "        text-align: left;\n",
       "    }\n",
       "\n",
       "    .dataframe tbody tr th {\n",
       "        vertical-align: top;\n",
       "    }\n",
       "</style>\n",
       "<table border=\"1\" class=\"dataframe\">\n",
       "  <thead>\n",
       "    <tr style=\"text-align: right;\">\n",
       "      <th></th>\n",
       "      <th>MLA Name</th>\n",
       "      <th>MLA Parameters</th>\n",
       "      <th>MLA Train Accuracy Mean</th>\n",
       "      <th>MLA Test Accuracy Mean</th>\n",
       "      <th>MLA Test Accuracy Min</th>\n",
       "      <th>MLA Time</th>\n",
       "    </tr>\n",
       "  </thead>\n",
       "  <tbody>\n",
       "    <tr>\n",
       "      <th>8</th>\n",
       "      <td>RidgeClassifierCV</td>\n",
       "      <td>{'alphas': (0.1, 1.0, 10.0), 'class_weight': N...</td>\n",
       "      <td>0.847191</td>\n",
       "      <td>0.827985</td>\n",
       "      <td>0.813433</td>\n",
       "      <td>0.0125</td>\n",
       "    </tr>\n",
       "    <tr>\n",
       "      <th>4</th>\n",
       "      <td>RandomForestClassifier</td>\n",
       "      <td>{'bootstrap': True, 'class_weight': None, 'cri...</td>\n",
       "      <td>0.991948</td>\n",
       "      <td>0.827612</td>\n",
       "      <td>0.809701</td>\n",
       "      <td>0.0732741</td>\n",
       "    </tr>\n",
       "    <tr>\n",
       "      <th>3</th>\n",
       "      <td>GradientBoostingClassifier</td>\n",
       "      <td>{'criterion': 'friedman_mse', 'init': None, 'l...</td>\n",
       "      <td>0.931835</td>\n",
       "      <td>0.826866</td>\n",
       "      <td>0.802239</td>\n",
       "      <td>0.209615</td>\n",
       "    </tr>\n",
       "    <tr>\n",
       "      <th>6</th>\n",
       "      <td>LogisticRegressionCV</td>\n",
       "      <td>{'Cs': 10, 'class_weight': None, 'cv': None, '...</td>\n",
       "      <td>0.850187</td>\n",
       "      <td>0.820896</td>\n",
       "      <td>0.798507</td>\n",
       "      <td>1.179</td>\n",
       "    </tr>\n",
       "    <tr>\n",
       "      <th>2</th>\n",
       "      <td>ExtraTreesClassifier</td>\n",
       "      <td>{'bootstrap': False, 'class_weight': None, 'cr...</td>\n",
       "      <td>0.998127</td>\n",
       "      <td>0.813806</td>\n",
       "      <td>0.783582</td>\n",
       "      <td>0.0305054</td>\n",
       "    </tr>\n",
       "    <tr>\n",
       "      <th>1</th>\n",
       "      <td>BaggingClassifier</td>\n",
       "      <td>{'base_estimator': None, 'bootstrap': True, 'b...</td>\n",
       "      <td>0.979588</td>\n",
       "      <td>0.812687</td>\n",
       "      <td>0.776119</td>\n",
       "      <td>0.0421893</td>\n",
       "    </tr>\n",
       "    <tr>\n",
       "      <th>0</th>\n",
       "      <td>AdaBoostClassifier</td>\n",
       "      <td>{'algorithm': 'SAMME.R', 'base_estimator': Non...</td>\n",
       "      <td>0.867978</td>\n",
       "      <td>0.802985</td>\n",
       "      <td>0.753731</td>\n",
       "      <td>0.153693</td>\n",
       "    </tr>\n",
       "    <tr>\n",
       "      <th>14</th>\n",
       "      <td>LinearSVC</td>\n",
       "      <td>{'C': 1.0, 'class_weight': None, 'dual': True,...</td>\n",
       "      <td>0.826217</td>\n",
       "      <td>0.8</td>\n",
       "      <td>0.735075</td>\n",
       "      <td>0.0843786</td>\n",
       "    </tr>\n",
       "    <tr>\n",
       "      <th>15</th>\n",
       "      <td>DecisionTreeClassifier</td>\n",
       "      <td>{'class_weight': None, 'criterion': 'gini', 'm...</td>\n",
       "      <td>0.998127</td>\n",
       "      <td>0.783955</td>\n",
       "      <td>0.75</td>\n",
       "      <td>0.0078124</td>\n",
       "    </tr>\n",
       "    <tr>\n",
       "      <th>16</th>\n",
       "      <td>ExtraTreeClassifier</td>\n",
       "      <td>{'class_weight': None, 'criterion': 'gini', 'm...</td>\n",
       "      <td>0.998127</td>\n",
       "      <td>0.763806</td>\n",
       "      <td>0.708955</td>\n",
       "      <td>0.00312557</td>\n",
       "    </tr>\n",
       "    <tr>\n",
       "      <th>13</th>\n",
       "      <td>SVC</td>\n",
       "      <td>{'C': 1.0, 'cache_size': 200, 'class_weight': ...</td>\n",
       "      <td>0.870225</td>\n",
       "      <td>0.748134</td>\n",
       "      <td>0.727612</td>\n",
       "      <td>0.143757</td>\n",
       "    </tr>\n",
       "    <tr>\n",
       "      <th>11</th>\n",
       "      <td>GaussianNB</td>\n",
       "      <td>{'priors': None}</td>\n",
       "      <td>0.753933</td>\n",
       "      <td>0.746269</td>\n",
       "      <td>0.664179</td>\n",
       "      <td>0.00468788</td>\n",
       "    </tr>\n",
       "    <tr>\n",
       "      <th>12</th>\n",
       "      <td>KNeighborsClassifier</td>\n",
       "      <td>{'algorithm': 'auto', 'leaf_size': 30, 'metric...</td>\n",
       "      <td>0.841011</td>\n",
       "      <td>0.726119</td>\n",
       "      <td>0.675373</td>\n",
       "      <td>0.00468783</td>\n",
       "    </tr>\n",
       "    <tr>\n",
       "      <th>5</th>\n",
       "      <td>GaussianProcessClassifier</td>\n",
       "      <td>{'copy_X_train': True, 'kernel': None, 'max_it...</td>\n",
       "      <td>0.994944</td>\n",
       "      <td>0.720522</td>\n",
       "      <td>0.664179</td>\n",
       "      <td>0.498075</td>\n",
       "    </tr>\n",
       "    <tr>\n",
       "      <th>9</th>\n",
       "      <td>SGDClassifier</td>\n",
       "      <td>{'alpha': 0.0001, 'average': False, 'class_wei...</td>\n",
       "      <td>0.685581</td>\n",
       "      <td>0.672761</td>\n",
       "      <td>0.376866</td>\n",
       "      <td>0.0031251</td>\n",
       "    </tr>\n",
       "    <tr>\n",
       "      <th>7</th>\n",
       "      <td>PassiveAggressiveClassifier</td>\n",
       "      <td>{'C': 1.0, 'average': False, 'class_weight': N...</td>\n",
       "      <td>0.668914</td>\n",
       "      <td>0.662687</td>\n",
       "      <td>0.414179</td>\n",
       "      <td>0.00781336</td>\n",
       "    </tr>\n",
       "    <tr>\n",
       "      <th>10</th>\n",
       "      <td>Perceptron</td>\n",
       "      <td>{'alpha': 0.0001, 'class_weight': None, 'eta0'...</td>\n",
       "      <td>0.658801</td>\n",
       "      <td>0.659701</td>\n",
       "      <td>0.41791</td>\n",
       "      <td>0.00312533</td>\n",
       "    </tr>\n",
       "  </tbody>\n",
       "</table>\n",
       "</div>"
      ],
      "text/plain": [
       "                       MLA Name  \\\n",
       "8             RidgeClassifierCV   \n",
       "4        RandomForestClassifier   \n",
       "3    GradientBoostingClassifier   \n",
       "6          LogisticRegressionCV   \n",
       "2          ExtraTreesClassifier   \n",
       "1             BaggingClassifier   \n",
       "0            AdaBoostClassifier   \n",
       "14                    LinearSVC   \n",
       "15       DecisionTreeClassifier   \n",
       "16          ExtraTreeClassifier   \n",
       "13                          SVC   \n",
       "11                   GaussianNB   \n",
       "12         KNeighborsClassifier   \n",
       "5     GaussianProcessClassifier   \n",
       "9                 SGDClassifier   \n",
       "7   PassiveAggressiveClassifier   \n",
       "10                   Perceptron   \n",
       "\n",
       "                                       MLA Parameters MLA Train Accuracy Mean  \\\n",
       "8   {'alphas': (0.1, 1.0, 10.0), 'class_weight': N...                0.847191   \n",
       "4   {'bootstrap': True, 'class_weight': None, 'cri...                0.991948   \n",
       "3   {'criterion': 'friedman_mse', 'init': None, 'l...                0.931835   \n",
       "6   {'Cs': 10, 'class_weight': None, 'cv': None, '...                0.850187   \n",
       "2   {'bootstrap': False, 'class_weight': None, 'cr...                0.998127   \n",
       "1   {'base_estimator': None, 'bootstrap': True, 'b...                0.979588   \n",
       "0   {'algorithm': 'SAMME.R', 'base_estimator': Non...                0.867978   \n",
       "14  {'C': 1.0, 'class_weight': None, 'dual': True,...                0.826217   \n",
       "15  {'class_weight': None, 'criterion': 'gini', 'm...                0.998127   \n",
       "16  {'class_weight': None, 'criterion': 'gini', 'm...                0.998127   \n",
       "13  {'C': 1.0, 'cache_size': 200, 'class_weight': ...                0.870225   \n",
       "11                                   {'priors': None}                0.753933   \n",
       "12  {'algorithm': 'auto', 'leaf_size': 30, 'metric...                0.841011   \n",
       "5   {'copy_X_train': True, 'kernel': None, 'max_it...                0.994944   \n",
       "9   {'alpha': 0.0001, 'average': False, 'class_wei...                0.685581   \n",
       "7   {'C': 1.0, 'average': False, 'class_weight': N...                0.668914   \n",
       "10  {'alpha': 0.0001, 'class_weight': None, 'eta0'...                0.658801   \n",
       "\n",
       "   MLA Test Accuracy Mean MLA Test Accuracy Min    MLA Time  \n",
       "8                0.827985              0.813433      0.0125  \n",
       "4                0.827612              0.809701   0.0732741  \n",
       "3                0.826866              0.802239    0.209615  \n",
       "6                0.820896              0.798507       1.179  \n",
       "2                0.813806              0.783582   0.0305054  \n",
       "1                0.812687              0.776119   0.0421893  \n",
       "0                0.802985              0.753731    0.153693  \n",
       "14                    0.8              0.735075   0.0843786  \n",
       "15               0.783955                  0.75   0.0078124  \n",
       "16               0.763806              0.708955  0.00312557  \n",
       "13               0.748134              0.727612    0.143757  \n",
       "11               0.746269              0.664179  0.00468788  \n",
       "12               0.726119              0.675373  0.00468783  \n",
       "5                0.720522              0.664179    0.498075  \n",
       "9                0.672761              0.376866   0.0031251  \n",
       "7                0.662687              0.414179  0.00781336  \n",
       "10               0.659701               0.41791  0.00312533  "
      ]
     },
     "execution_count": 277,
     "metadata": {},
     "output_type": "execute_result"
    }
   ],
   "source": [
    "#index through MLA and save performance to table\n",
    "row_index = 0\n",
    "for alg in MLA:\n",
    "\n",
    "    #set name and parameters\n",
    "    MLA_compare.loc[row_index, 'MLA Name'] = alg.__class__.__name__\n",
    "    MLA_compare.loc[row_index, 'MLA Parameters'] = str(alg.get_params())\n",
    "    \n",
    "    #score model with cross validation: http://scikit-learn.org/stable/modules/generated/sklearn.model_selection.cross_validate.html#sklearn.model_selection.cross_validate\n",
    "    cv_results = cross_validate(alg, X, y, cv  = cv_split)\n",
    "\n",
    "    MLA_compare.loc[row_index, 'MLA Time'] = cv_results['fit_time'].mean()\n",
    "    MLA_compare.loc[row_index, 'MLA Train Accuracy Mean'] = cv_results['train_score'].mean()\n",
    "    MLA_compare.loc[row_index, 'MLA Test Accuracy Mean'] = cv_results['test_score'].mean()   \n",
    "    MLA_compare.loc[row_index, 'MLA Test Accuracy Min'] = cv_results['test_score'].min()   #let's know the worst that can happen!\n",
    "\n",
    "    row_index+=1\n",
    "\n",
    "    \n",
    "#print and sort table: https://pandas.pydata.org/pandas-docs/stable/generated/pandas.DataFrame.sort_values.html\n",
    "MLA_compare.sort_values(by = ['MLA Test Accuracy Mean'], ascending = False, inplace = True)\n",
    "#print(MLA_compare)\n",
    "MLA_compare"
   ]
  },
  {
   "cell_type": "code",
   "execution_count": 278,
   "metadata": {},
   "outputs": [
    {
     "name": "stdout",
     "output_type": "stream",
     "text": [
      "Fitting 10 folds for each of 90 candidates, totalling 900 fits\n"
     ]
    },
    {
     "name": "stderr",
     "output_type": "stream",
     "text": [
      "[Parallel(n_jobs=4)]: Done  42 tasks      | elapsed:  1.1min\n",
      "[Parallel(n_jobs=4)]: Done 192 tasks      | elapsed:  1.5min\n",
      "[Parallel(n_jobs=4)]: Done 442 tasks      | elapsed:  2.3min\n",
      "[Parallel(n_jobs=4)]: Done 792 tasks      | elapsed:  3.5min\n",
      "[Parallel(n_jobs=4)]: Done 900 out of 900 | elapsed:  3.9min finished\n"
     ]
    },
    {
     "data": {
      "text/plain": [
       "0.83726150392817056"
      ]
     },
     "execution_count": 278,
     "metadata": {},
     "output_type": "execute_result"
    }
   ],
   "source": [
    "# RFC Parameters tunning \n",
    "RFC = RandomForestClassifier(random_state=12)\n",
    "\n",
    "## Search grid for optimal parameters\n",
    "rf_param_grid = {\n",
    "              #\"max_depth\": [None],\n",
    "              #\"max_features\": [None,'sqrt','log2'],\n",
    "              \"min_samples_split\": [2,5,6],\n",
    "              \"min_samples_leaf\": [8,10,12],\n",
    "              \"bootstrap\": [False],\n",
    "              \"n_estimators\" :[10,20,50,100,200],\n",
    "              \"criterion\": ['gini','entropy']\n",
    "             }\n",
    "\n",
    "gsRFC = GridSearchCV(RFC,param_grid = rf_param_grid, cv=kfold, scoring=\"accuracy\", n_jobs= 4, verbose = 1)\n",
    "\n",
    "gsRFC.fit(X,y)\n",
    "\n",
    "RFC_best = gsRFC.best_estimator_\n",
    "\n",
    "# Best score\n",
    "gsRFC.best_score_\n"
   ]
  },
  {
   "cell_type": "code",
   "execution_count": 279,
   "metadata": {},
   "outputs": [
    {
     "data": {
      "text/plain": [
       "RandomForestClassifier(bootstrap=False, class_weight=None,\n",
       "            criterion='entropy', max_depth=None, max_features='auto',\n",
       "            max_leaf_nodes=None, min_impurity_decrease=0.0,\n",
       "            min_impurity_split=None, min_samples_leaf=8,\n",
       "            min_samples_split=2, min_weight_fraction_leaf=0.0,\n",
       "            n_estimators=20, n_jobs=1, oob_score=False, random_state=12,\n",
       "            verbose=0, warm_start=False)"
      ]
     },
     "execution_count": 279,
     "metadata": {},
     "output_type": "execute_result"
    }
   ],
   "source": [
    "RFC_best"
   ]
  },
  {
   "cell_type": "code",
   "execution_count": 280,
   "metadata": {},
   "outputs": [
    {
     "data": {
      "text/plain": [
       "RandomForestClassifier(bootstrap=False, class_weight=None,\n",
       "            criterion='entropy', max_depth=None, max_features='auto',\n",
       "            max_leaf_nodes=None, min_impurity_decrease=0.0,\n",
       "            min_impurity_split=None, min_samples_leaf=8,\n",
       "            min_samples_split=2, min_weight_fraction_leaf=0.0,\n",
       "            n_estimators=20, n_jobs=1, oob_score=False, random_state=12,\n",
       "            verbose=0, warm_start=False)"
      ]
     },
     "execution_count": 280,
     "metadata": {},
     "output_type": "execute_result"
    }
   ],
   "source": [
    "RFC_best"
   ]
  },
  {
   "cell_type": "code",
   "execution_count": 281,
   "metadata": {
    "collapsed": true
   },
   "outputs": [],
   "source": [
    "features = pd.DataFrame()\n",
    "features['feature'] = X.columns\n",
    "features['importance'] = RFC_best.feature_importances_\n",
    "features.sort_values(by=['importance'], ascending=True, inplace=True)\n",
    "features.set_index('feature', inplace=True)"
   ]
  },
  {
   "cell_type": "code",
   "execution_count": 282,
   "metadata": {},
   "outputs": [
    {
     "data": {
      "text/plain": [
       "<matplotlib.axes._subplots.AxesSubplot at 0x280076c9940>"
      ]
     },
     "execution_count": 282,
     "metadata": {},
     "output_type": "execute_result"
    },
    {
     "data": {
      "image/png": "[encoded data removed]",
      "text/plain": [
       "<matplotlib.figure.Figure at 0x280076ba470>"
      ]
     },
     "metadata": {},
     "output_type": "display_data"
    }
   ],
   "source": [
    "features.plot(kind='barh', figsize=(20, 20))"
   ]
  },
  {
   "cell_type": "code",
   "execution_count": 283,
   "metadata": {},
   "outputs": [
    {
     "data": {
      "text/plain": [
       "(418, 12)"
      ]
     },
     "execution_count": 283,
     "metadata": {},
     "output_type": "execute_result"
    }
   ],
   "source": [
    "from sklearn.feature_selection import SelectFromModel\n",
    "model = SelectFromModel(RFC_best, prefit=True)\n",
    "train_reduced = model.transform(X)\n",
    "train_reduced.shape\n",
    "\n",
    "test_reduced = model.transform(test)\n",
    "test_reduced.shape\n",
    "#RFC_best = RandomForestClassifier(n_estimators=100, min_samples_leaf=10,min_samples_split=10,max_features=3, oob_score=True)"
   ]
  },
  {
   "cell_type": "code",
   "execution_count": null,
   "metadata": {
    "collapsed": true
   },
   "outputs": [],
   "source": []
  },
  {
   "cell_type": "code",
   "execution_count": null,
   "metadata": {
    "collapsed": true
   },
   "outputs": [],
   "source": []
  },
  {
   "cell_type": "markdown",
   "metadata": {
    "collapsed": true
   },
   "source": [
    "DTC = DecisionTreeClassifier()\n",
    "adaDTC = AdaBoostClassifier(DTC, random_state=7)\n",
    "\n",
    "ada_param_grid = {\"base_estimator__criterion\" : [\"gini\", \"entropy\"],\n",
    "              \"base_estimator__splitter\" :   [\"best\", \"random\"],\n",
    "              \"algorithm\" : [\"SAMME\",\"SAMME.R\"],\n",
    "              \"n_estimators\" :[1,2],\n",
    "              \"learning_rate\":  [0.0001, 0.001, 0.01, 0.1, 0.2, 0.3,1.5]}\n",
    "\n",
    "gsadaDTC = GridSearchCV(adaDTC,param_grid = ada_param_grid, cv=kfold, scoring=\"accuracy\", n_jobs= 4, verbose = 1)\n",
    "gsadaDTC.fit(X,y)\n",
    "ada_best = gsadaDTC.best_estimator_\n",
    "\n",
    "gsadaDTC.best_score_"
   ]
  },
  {
   "cell_type": "code",
   "execution_count": 284,
   "metadata": {},
   "outputs": [
    {
     "name": "stdout",
     "output_type": "stream",
     "text": [
      "Fitting 10 folds for each of 72 candidates, totalling 720 fits\n"
     ]
    },
    {
     "name": "stderr",
     "output_type": "stream",
     "text": [
      "[Parallel(n_jobs=4)]: Done  42 tasks      | elapsed:  1.1min\n",
      "[Parallel(n_jobs=4)]: Done 192 tasks      | elapsed:  1.5min\n",
      "[Parallel(n_jobs=4)]: Done 442 tasks      | elapsed:  2.2min\n",
      "[Parallel(n_jobs=4)]: Done 720 out of 720 | elapsed:  2.9min finished\n"
     ]
    },
    {
     "data": {
      "text/plain": [
       "0.82379349046015715"
      ]
     },
     "execution_count": 284,
     "metadata": {},
     "output_type": "execute_result"
    }
   ],
   "source": [
    "# Gradient boosting tunning\n",
    "\n",
    "GBC = GradientBoostingClassifier()\n",
    "gb_param_grid = {'loss' : [\"deviance\"],\n",
    "              'n_estimators' : [100,200,300],\n",
    "              'learning_rate': [0.1, 0.05, 0.01],\n",
    "              'max_depth': [4, 8],\n",
    "              'min_samples_leaf': [100,150],\n",
    "              'max_features': [0.3, 0.1] \n",
    "              }\n",
    "\n",
    "gsGBC = GridSearchCV(GBC,param_grid = gb_param_grid, cv=kfold, scoring=\"accuracy\", n_jobs= 4, verbose = 1)\n",
    "\n",
    "gsGBC.fit(X,y)\n",
    "\n",
    "GBC_best = gsGBC.best_estimator_\n",
    "\n",
    "# Best score\n",
    "gsGBC.best_score_"
   ]
  },
  {
   "cell_type": "code",
   "execution_count": 285,
   "metadata": {
    "collapsed": true
   },
   "outputs": [],
   "source": [
    "#GBC_best = GradientBoostingClassifier(n_estimators=200,learning_rate=0.1,max_depth=4,min_samples_leaf=100,max_features=0.3)"
   ]
  },
  {
   "cell_type": "markdown",
   "metadata": {},
   "source": [
    "### SVC classifier\n",
    "SVMC = SVC(probability=True)\n",
    "svc_param_grid = {'kernel': ['rbf'], \n",
    "                  'gamma': [ 0.001, 0.01, 0.1, 1],\n",
    "                  'C': [50,100,200,300]}\n",
    "\n",
    "gsSVMC = GridSearchCV(SVMC,param_grid = svc_param_grid, cv=kfold, scoring=\"accuracy\", n_jobs= 4, verbose = 1)\n",
    "\n",
    "gsSVMC.fit(X,y)\n",
    "\n",
    "SVMC_best = gsSVMC.best_estimator_\n",
    "\n",
    "# Best score\n",
    "gsSVMC.best_score_"
   ]
  },
  {
   "cell_type": "code",
   "execution_count": 286,
   "metadata": {},
   "outputs": [
    {
     "ename": "NameError",
     "evalue": "name 'SVMC_best' is not defined",
     "output_type": "error",
     "traceback": [
      "\u001b[1;31m---------------------------------------------------------------------------\u001b[0m",
      "\u001b[1;31mNameError\u001b[0m                                 Traceback (most recent call last)",
      "\u001b[1;32m<ipython-input-286-6ca932305561>\u001b[0m in \u001b[0;36m<module>\u001b[1;34m()\u001b[0m\n\u001b[1;32m----> 1\u001b[1;33m \u001b[0mSVMC_best\u001b[0m\u001b[1;33m\u001b[0m\u001b[0m\n\u001b[0m",
      "\u001b[1;31mNameError\u001b[0m: name 'SVMC_best' is not defined"
     ]
    }
   ],
   "source": [
    "SVMC_best"
   ]
  },
  {
   "cell_type": "code",
   "execution_count": null,
   "metadata": {
    "collapsed": true
   },
   "outputs": [],
   "source": [
    "#SVMC_best = SVC(probability=True, gamma=0.001,C=1000)"
   ]
  },
  {
   "cell_type": "code",
   "execution_count": null,
   "metadata": {
    "collapsed": true
   },
   "outputs": [],
   "source": [
    "def plot_learning_curve(estimator, title, X, y, ylim=None, cv=None,\n",
    "                        n_jobs=-1, train_sizes=np.linspace(.1, 1.0, 5)):\n",
    "    \"\"\"Generate a simple plot of the test and training learning curve\"\"\"\n",
    "    plt.figure()\n",
    "    plt.title(title)\n",
    "    if ylim is not None:\n",
    "        plt.ylim(*ylim)\n",
    "    plt.xlabel(\"Training examples\")\n",
    "    plt.ylabel(\"Score\")\n",
    "    train_sizes, train_scores, test_scores = learning_curve(\n",
    "        estimator, X, y, cv=cv, n_jobs=n_jobs, train_sizes=train_sizes)\n",
    "    train_scores_mean = np.mean(train_scores, axis=1)\n",
    "    train_scores_std = np.std(train_scores, axis=1)\n",
    "    test_scores_mean = np.mean(test_scores, axis=1)\n",
    "    test_scores_std = np.std(test_scores, axis=1)\n",
    "    plt.grid()\n",
    "\n",
    "    plt.fill_between(train_sizes, train_scores_mean - train_scores_std,\n",
    "                     train_scores_mean + train_scores_std, alpha=0.1,\n",
    "                     color=\"r\")\n",
    "    plt.fill_between(train_sizes, test_scores_mean - test_scores_std,\n",
    "                     test_scores_mean + test_scores_std, alpha=0.1, color=\"g\")\n",
    "    plt.plot(train_sizes, train_scores_mean, 'o-', color=\"r\",\n",
    "             label=\"Training score\")\n",
    "    plt.plot(train_sizes, test_scores_mean, 'o-', color=\"g\",\n",
    "             label=\"Cross-validation score\")\n",
    "\n",
    "    plt.legend(loc=\"best\")\n",
    "    return plt\n",
    "\n",
    "#g = plot_learning_curve(gsSVMC.best_estimator_,\"SVM learning curves\",X,y,cv=kfold)"
   ]
  },
  {
   "cell_type": "code",
   "execution_count": null,
   "metadata": {
    "collapsed": true
   },
   "outputs": [],
   "source": [
    "#g = plot_learning_curve(gsGBC.best_estimator_,\"GB learning curves\",X,y,cv=kfold)\n",
    "RFC_best"
   ]
  },
  {
   "cell_type": "markdown",
   "metadata": {},
   "source": [
    "Ensembling more than one model"
   ]
  },
  {
   "cell_type": "code",
   "execution_count": null,
   "metadata": {
    "collapsed": true
   },
   "outputs": [],
   "source": [
    "votingC = VotingClassifier(estimators=[('rfc', RFC_best), ('lrm', lrm_best),\n",
    "('GBC', GBC_best)], voting='soft', n_jobs=4)\n",
    "\n",
    "#votingC = VotingClassifier(estimators=[('rfc', RFC_best), ('lrm', lrm_best),\n",
    "#('svc', SVMC_best), ('adac',ada_best),('gbc',GBC_best)], voting='soft', n_jobs=4)\n",
    "\n",
    "votingC = votingC.fit(X, y)"
   ]
  },
  {
   "cell_type": "code",
   "execution_count": null,
   "metadata": {
    "collapsed": true
   },
   "outputs": [],
   "source": [
    "pred = pd.Series(votingC.predict(test), name='Survived')"
   ]
  },
  {
   "cell_type": "code",
   "execution_count": null,
   "metadata": {
    "collapsed": true
   },
   "outputs": [],
   "source": [
    "output = pd.concat([IDtest,pred.astype(int)], axis=1)"
   ]
  },
  {
   "cell_type": "code",
   "execution_count": 235,
   "metadata": {
    "collapsed": true
   },
   "outputs": [],
   "source": [
    "output.to_csv(\"Titanic_Viswa15.csv\",index=False)"
   ]
  },
  {
   "cell_type": "code",
   "execution_count": 236,
   "metadata": {},
   "outputs": [
    {
     "data": {
      "text/html": [
       "<div>\n",
       "<style>\n",
       "    .dataframe thead tr:only-child th {\n",
       "        text-align: right;\n",
       "    }\n",
       "\n",
       "    .dataframe thead th {\n",
       "        text-align: left;\n",
       "    }\n",
       "\n",
       "    .dataframe tbody tr th {\n",
       "        vertical-align: top;\n",
       "    }\n",
       "</style>\n",
       "<table border=\"1\" class=\"dataframe\">\n",
       "  <thead>\n",
       "    <tr style=\"text-align: right;\">\n",
       "      <th></th>\n",
       "      <th>Age</th>\n",
       "      <th>Fare</th>\n",
       "      <th>Parch</th>\n",
       "      <th>PassengerId</th>\n",
       "      <th>Pclass</th>\n",
       "      <th>SibSp</th>\n",
       "      <th>Survived</th>\n",
       "      <th>NameLength</th>\n",
       "      <th>FamilySize</th>\n",
       "      <th>PartofGroup</th>\n",
       "      <th>...</th>\n",
       "      <th>GroupSurvival_Medium</th>\n",
       "      <th>GroupSurvival_low</th>\n",
       "      <th>Ticket_Lett_2</th>\n",
       "      <th>Ticket_Lett_3</th>\n",
       "      <th>Ticket_Lett_A</th>\n",
       "      <th>Ticket_Lett_C</th>\n",
       "      <th>Ticket_Lett_Low_ticket</th>\n",
       "      <th>Ticket_Lett_Other_ticket</th>\n",
       "      <th>Ticket_Lett_P</th>\n",
       "      <th>Ticket_Lett_S</th>\n",
       "    </tr>\n",
       "  </thead>\n",
       "  <tbody>\n",
       "    <tr>\n",
       "      <th>892</th>\n",
       "      <td>47.0</td>\n",
       "      <td>7.000000</td>\n",
       "      <td>0</td>\n",
       "      <td>893</td>\n",
       "      <td>3</td>\n",
       "      <td>1</td>\n",
       "      <td>NaN</td>\n",
       "      <td>32</td>\n",
       "      <td>2</td>\n",
       "      <td>0.0</td>\n",
       "      <td>...</td>\n",
       "      <td>0</td>\n",
       "      <td>1</td>\n",
       "      <td>0</td>\n",
       "      <td>1</td>\n",
       "      <td>0</td>\n",
       "      <td>0</td>\n",
       "      <td>0</td>\n",
       "      <td>0</td>\n",
       "      <td>0</td>\n",
       "      <td>0</td>\n",
       "    </tr>\n",
       "    <tr>\n",
       "      <th>923</th>\n",
       "      <td>33.0</td>\n",
       "      <td>5.143750</td>\n",
       "      <td>2</td>\n",
       "      <td>924</td>\n",
       "      <td>3</td>\n",
       "      <td>1</td>\n",
       "      <td>NaN</td>\n",
       "      <td>40</td>\n",
       "      <td>4</td>\n",
       "      <td>1.0</td>\n",
       "      <td>...</td>\n",
       "      <td>0</td>\n",
       "      <td>1</td>\n",
       "      <td>0</td>\n",
       "      <td>0</td>\n",
       "      <td>0</td>\n",
       "      <td>1</td>\n",
       "      <td>0</td>\n",
       "      <td>0</td>\n",
       "      <td>0</td>\n",
       "      <td>0</td>\n",
       "    </tr>\n",
       "    <tr>\n",
       "      <th>924</th>\n",
       "      <td>24.0</td>\n",
       "      <td>5.862500</td>\n",
       "      <td>2</td>\n",
       "      <td>925</td>\n",
       "      <td>3</td>\n",
       "      <td>1</td>\n",
       "      <td>NaN</td>\n",
       "      <td>49</td>\n",
       "      <td>4</td>\n",
       "      <td>1.0</td>\n",
       "      <td>...</td>\n",
       "      <td>0</td>\n",
       "      <td>1</td>\n",
       "      <td>0</td>\n",
       "      <td>0</td>\n",
       "      <td>0</td>\n",
       "      <td>0</td>\n",
       "      <td>1</td>\n",
       "      <td>0</td>\n",
       "      <td>0</td>\n",
       "      <td>0</td>\n",
       "    </tr>\n",
       "    <tr>\n",
       "      <th>1230</th>\n",
       "      <td>24.0</td>\n",
       "      <td>7.229200</td>\n",
       "      <td>0</td>\n",
       "      <td>1231</td>\n",
       "      <td>3</td>\n",
       "      <td>0</td>\n",
       "      <td>NaN</td>\n",
       "      <td>21</td>\n",
       "      <td>1</td>\n",
       "      <td>0.0</td>\n",
       "      <td>...</td>\n",
       "      <td>0</td>\n",
       "      <td>1</td>\n",
       "      <td>1</td>\n",
       "      <td>0</td>\n",
       "      <td>0</td>\n",
       "      <td>0</td>\n",
       "      <td>0</td>\n",
       "      <td>0</td>\n",
       "      <td>0</td>\n",
       "      <td>0</td>\n",
       "    </tr>\n",
       "    <tr>\n",
       "      <th>1235</th>\n",
       "      <td>24.0</td>\n",
       "      <td>4.833333</td>\n",
       "      <td>1</td>\n",
       "      <td>1236</td>\n",
       "      <td>3</td>\n",
       "      <td>1</td>\n",
       "      <td>NaN</td>\n",
       "      <td>35</td>\n",
       "      <td>3</td>\n",
       "      <td>0.0</td>\n",
       "      <td>...</td>\n",
       "      <td>0</td>\n",
       "      <td>1</td>\n",
       "      <td>0</td>\n",
       "      <td>0</td>\n",
       "      <td>1</td>\n",
       "      <td>0</td>\n",
       "      <td>0</td>\n",
       "      <td>0</td>\n",
       "      <td>0</td>\n",
       "      <td>0</td>\n",
       "    </tr>\n",
       "    <tr>\n",
       "      <th>1250</th>\n",
       "      <td>30.0</td>\n",
       "      <td>7.775000</td>\n",
       "      <td>0</td>\n",
       "      <td>1251</td>\n",
       "      <td>3</td>\n",
       "      <td>1</td>\n",
       "      <td>NaN</td>\n",
       "      <td>51</td>\n",
       "      <td>2</td>\n",
       "      <td>0.0</td>\n",
       "      <td>...</td>\n",
       "      <td>0</td>\n",
       "      <td>1</td>\n",
       "      <td>0</td>\n",
       "      <td>1</td>\n",
       "      <td>0</td>\n",
       "      <td>0</td>\n",
       "      <td>0</td>\n",
       "      <td>0</td>\n",
       "      <td>0</td>\n",
       "      <td>0</td>\n",
       "    </tr>\n",
       "  </tbody>\n",
       "</table>\n",
       "<p>6 rows × 42 columns</p>\n",
       "</div>"
      ],
      "text/plain": [
       "       Age      Fare  Parch  PassengerId  Pclass  SibSp  Survived  NameLength  \\\n",
       "892   47.0  7.000000      0          893       3      1       NaN          32   \n",
       "923   33.0  5.143750      2          924       3      1       NaN          40   \n",
       "924   24.0  5.862500      2          925       3      1       NaN          49   \n",
       "1230  24.0  7.229200      0         1231       3      0       NaN          21   \n",
       "1235  24.0  4.833333      1         1236       3      1       NaN          35   \n",
       "1250  30.0  7.775000      0         1251       3      1       NaN          51   \n",
       "\n",
       "      FamilySize  PartofGroup      ...        GroupSurvival_Medium  \\\n",
       "892            2          0.0      ...                           0   \n",
       "923            4          1.0      ...                           0   \n",
       "924            4          1.0      ...                           0   \n",
       "1230           1          0.0      ...                           0   \n",
       "1235           3          0.0      ...                           0   \n",
       "1250           2          0.0      ...                           0   \n",
       "\n",
       "      GroupSurvival_low  Ticket_Lett_2  Ticket_Lett_3  Ticket_Lett_A  \\\n",
       "892                   1              0              1              0   \n",
       "923                   1              0              0              0   \n",
       "924                   1              0              0              0   \n",
       "1230                  1              1              0              0   \n",
       "1235                  1              0              0              1   \n",
       "1250                  1              0              1              0   \n",
       "\n",
       "      Ticket_Lett_C  Ticket_Lett_Low_ticket  Ticket_Lett_Other_ticket  \\\n",
       "892               0                       0                         0   \n",
       "923               1                       0                         0   \n",
       "924               0                       1                         0   \n",
       "1230              0                       0                         0   \n",
       "1235              0                       0                         0   \n",
       "1250              0                       0                         0   \n",
       "\n",
       "      Ticket_Lett_P  Ticket_Lett_S  \n",
       "892               0              0  \n",
       "923               0              0  \n",
       "924               0              0  \n",
       "1230              0              0  \n",
       "1235              0              0  \n",
       "1250              0              0  \n",
       "\n",
       "[6 rows x 42 columns]"
      ]
     },
     "execution_count": 236,
     "metadata": {},
     "output_type": "execute_result"
    }
   ],
   "source": [
    "df[df['PassengerId'].apply(lambda id: True if id in(924,925,893,1231,1236,1251)else False)]"
   ]
  }
 ],
 "metadata": {
  "kernelspec": {
   "display_name": "Python 3",
   "language": "python",
   "name": "python3"
  },
  "language_info": {
   "codemirror_mode": {
    "name": "ipython",
    "version": 3
   },
   "file_extension": ".py",
   "mimetype": "text/x-python",
   "name": "python",
   "nbconvert_exporter": "python",
   "pygments_lexer": "ipython3",
   "version": "3.6.1"
  }
 },
 "nbformat": 4,
 "nbformat_minor": 2
}
