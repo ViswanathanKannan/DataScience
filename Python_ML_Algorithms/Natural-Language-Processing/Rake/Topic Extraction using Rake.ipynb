{
 "cells": [
  {
   "cell_type": "markdown",
   "metadata": {},
   "source": [
    "# keyword extraction"
   ]
  },
  {
   "cell_type": "markdown",
   "metadata": {},
   "source": [
    "Candidate selection: Here, we extract all possible words, phrases, terms or concepts (depending on the task) that can potentially be keywords.\n",
    "    \n",
    "Properties calculation: For each candidate, we need to calculate properties that indicate that it may be a keyword. For example, a candidate appearing in the title of a book is a likely keyword.\n",
    "    \n",
    "Scoring and selecting keywords: All candidates can be scored by either combining the properties into a formula, or using a machine learning technique to determine probability of a candidate being a keyword. A score or probability threshold, or a limit on the number of keywords is then used to select the final set of keywords..\n"
   ]
  },
  {
   "cell_type": "code",
   "execution_count": 2,
   "metadata": {},
   "outputs": [
    {
     "name": "stdout",
     "output_type": "stream",
     "text": [
      "[('compatibility', 1.0), ('of', 1.0), ('systems', 1.0), ('linear', 1.0), ('constraints', 1.0), ('over', 1.0), ('the', 1.0), ('set', 1.0), ('natural', 1.0), ('numbers', 1.0), ('criteria', 1.0), ('system', 1.0), ('diophantine', 1.0), ('equations', 1.0)]\n",
      "[('minimal generating sets', 8.666666666666666), ('linear diophantine equations', 8.5), ('minimal supporting set', 7.666666666666666), ('minimal set', 4.666666666666666), ('linear constraints', 4.5), ('natural numbers', 4.0), ('strict inequations', 4.0), ('nonstrict inequations', 4.0), ('upper bounds', 4.0), ('mixed types', 3.666666666666667), ('considered types', 3.166666666666667), ('set', 2.0), ('types', 1.6666666666666667), ('considered', 1.5), ('compatibility', 1.0), ('systems', 1.0), ('criteria', 1.0), ('system', 1.0), ('components', 1.0), ('solutions', 1.0), ('algorithms', 1.0), ('construction', 1.0), ('constructing', 1.0), ('solving', 1.0)]\n"
     ]
    }
   ],
   "source": [
    "import rake\n",
    "import operator"
   ]
  },
  {
   "cell_type": "code",
   "execution_count": 4,
   "metadata": {
    "collapsed": true
   },
   "outputs": [],
   "source": [
    "rake_object = rake.Rake(\"SmartStoplist.txt\", 5, 3, 4)"
   ]
  },
  {
   "cell_type": "code",
   "execution_count": 11,
   "metadata": {},
   "outputs": [
    {
     "name": "stdout",
     "output_type": "stream",
     "text": [
      "[('household food security', 7.711414565826329), ('indigenous groups living', 7.4), ('national forest programmes', 7.249539170506913), ('wood forest products', 6.844777265745007), ('food security', 5.03641456582633), ('medicinal plants', 4.633333333333333), ('forested area', 4.549707602339181), ('food production', 4.511904761904762), ('participatory approach', 4.442857142857143), ('food consumption', 4.345238095238095), ('tree products', 4.307142857142857), ('nfp staff', 4.257575757575758), ('forest resources', 4.18763440860215), ('forest products', 4.178110599078341), ('local population', 4.142857142857142), ('local level', 4.142857142857142), ('hunger periods', 4.076923076923077), ('forest management', 4.065412186379929), ('forested areas', 4.057644110275689), ('forest foods', 4.051200300075019), ('information gathered', 4.043010752688172), ('international conference', 4.0), ('poorest households', 3.888888888888889), ('nutritional status', 3.865079365079365), ('_ number', 3.865), ('nutrition concerns', 3.6916666666666664), ('nutrition situation', 3.5666666666666664), ('nutrition issues', 3.423809523809524), ('tropical forests', 3.4222222222222225), ('forest', 2.120967741935484), ('production', 2.0833333333333335), ('products', 2.057142857142857), ('agriculture', 2.0), ('population', 2.0), ('research', 2.0), ('institutions', 1.9583333333333333), ('areas', 1.9523809523809523), ('management', 1.9444444444444444), ('foods', 1.930232558139535), ('development', 1.9285714285714286), ('households', 1.8888888888888888), ('provide', 1.875), ('collection', 1.875), ('process', 1.875), ('project', 1.875), ('issues', 1.8571428571428572), ('sources', 1.8181818181818181), ('forestry', 1.7857142857142858), ('dependency', 1.7777777777777777), ('world', 1.7777777777777777), ('involved', 1.7692307692307692), ('health', 1.75), ('activities', 1.7241379310344827), ('nutritional', 1.7222222222222223), ('information', 1.7096774193548387), ('social', 1.7), ('income', 1.6666666666666667), ('important', 1.6666666666666667), ('community', 1.6666666666666667), ('people', 1.6216216216216217), ('ensure', 1.6), ('nutrition', 1.5666666666666667), ('contribute', 1.5), ('eaten', 1.5), ('villagers', 1.5), ('formulation', 1.5), ('fuelwood', 1.4444444444444444), ('dependent', 1.4444444444444444), ('understanding', 1.4444444444444444), ('exploitation', 1.4285714285714286), ('access', 1.4), ('education', 1.4), ('contribution', 1.3636363636363635), ('times', 1.3333333333333333), ('manioc', 1.3333333333333333), ('increase', 1.3333333333333333), ('communities', 1.3333333333333333), ('nwfps', 1.3333333333333333), ('children', 1.3), ('preparation', 1.25), ('women', 1.2307692307692308), ('forests', 1.2222222222222223), ('basis', 1.2222222222222223), ('implications', 1.2), ('seeds', 1.2), ('fruit', 1.2), ('unesco', 1.2), ('degradation', 1.2), ('impact', 1.2), ('country', 1.2), ('multi', 1.2), ('action', 1.1818181818181819), ('trees', 1.173913043478261), ('variety', 1.1666666666666667), ('consumed', 1.1666666666666667), ('knowledge', 1.1666666666666667), ('found', 1.1666666666666667), ('malnutrition', 1.1428571428571428), ('essential', 1.125), ('fruits', 1.1111111111111112), ('villages', 1.1111111111111112), ('processing', 1.1111111111111112), ('importance', 1.0), ('terms', 1.0), ('cameroon', 1.0), ('improve', 1.0), ('affect', 1.0), ('order', 1.0), ('socio', 1.0), ('relation', 1.0), ('implementation', 1.0), ('follow', 1.0), ('address', 1.0), ('incorporation', 1.0), ('included', 1.0)]\n"
     ]
    }
   ],
   "source": [
    "sample_file = open(\"data/docs/fao_test/w2167e.txt\", 'r')\n",
    "text = sample_file.read()\n",
    "keywords = rake_object.run(text)\n",
    "print(keywords)"
   ]
  },
  {
   "cell_type": "code",
   "execution_count": 12,
   "metadata": {
    "collapsed": true
   },
   "outputs": [],
   "source": [
    "stoppath = \"SmartStoplist.txt\"\n",
    "\n",
    "rake_object = rake.Rake(stoppath)\n",
    "\n",
    "text = \"Compatibility of systems of linear constraints over the set of natural numbers. Criteria of compatibility \" \\\n",
    "       \"of a system of linear Diophantine equations, strict inequations, and nonstrict inequations are considered. \" \\\n",
    "       \"Upper bounds for components of a minimal set of solutions and algorithms of construction of minimal generating\"\\\n",
    "       \" sets of solutions for all types of systems are given. These criteria and the corresponding algorithms \" \\\n",
    "       \"for constructing a minimal supporting set of solutions can be used in solving all the considered types of \" \\\n",
    "       \"systems and systems of mixed types.\""
   ]
  },
  {
   "cell_type": "code",
   "execution_count": 14,
   "metadata": {
    "collapsed": true
   },
   "outputs": [],
   "source": [
    "from nltk.corpus import stopwords"
   ]
  },
  {
   "cell_type": "code",
   "execution_count": 15,
   "metadata": {},
   "outputs": [],
   "source": [
    "sentenceList = rake.split_sentences(text)\n",
    "stopwordpattern = rake.build_stop_word_regex(stoppath)\n",
    "phraseList = rake.generate_candidate_keywords(sentenceList, stopwordpattern)"
   ]
  },
  {
   "cell_type": "code",
   "execution_count": 17,
   "metadata": {
    "collapsed": true
   },
   "outputs": [],
   "source": [
    "wordscores = rake.calculate_word_scores(phraseList)\n",
    "keywordcandidates = rake.generate_candidate_keyword_scores(phraseList, wordscores)"
   ]
  },
  {
   "cell_type": "code",
   "execution_count": 23,
   "metadata": {},
   "outputs": [],
   "source": [
    "keywords = rake_object.run(text)"
   ]
  },
  {
   "cell_type": "code",
   "execution_count": 24,
   "metadata": {},
   "outputs": [
    {
     "name": "stdout",
     "output_type": "stream",
     "text": [
      "[('minimal generating sets', 8.666666666666666), ('linear diophantine equations', 8.5), ('minimal supporting set', 7.666666666666666), ('minimal set', 4.666666666666666), ('linear constraints', 4.5), ('natural numbers', 4.0), ('strict inequations', 4.0), ('nonstrict inequations', 4.0), ('upper bounds', 4.0), ('mixed types', 3.666666666666667), ('considered types', 3.166666666666667), ('set', 2.0), ('types', 1.6666666666666667), ('considered', 1.5), ('compatibility', 1.0), ('systems', 1.0), ('criteria', 1.0), ('system', 1.0), ('components', 1.0), ('solutions', 1.0), ('algorithms', 1.0), ('construction', 1.0), ('constructing', 1.0), ('solving', 1.0)]\n"
     ]
    }
   ],
   "source": [
    "print(keywords)"
   ]
  },
  {
   "cell_type": "code",
   "execution_count": null,
   "metadata": {
    "collapsed": true
   },
   "outputs": [],
   "source": []
  }
 ],
 "metadata": {
  "kernelspec": {
   "display_name": "Python 3",
   "language": "python",
   "name": "python3"
  }
 },
 "nbformat": 4,
 "nbformat_minor": 2
}
