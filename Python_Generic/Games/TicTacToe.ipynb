{
 "cells": [
  {
   "cell_type": "code",
   "execution_count": null,
   "metadata": {
    "collapsed": true
   },
   "outputs": [],
   "source": []
  },
  {
   "cell_type": "code",
   "execution_count": 1,
   "metadata": {},
   "outputs": [
    {
     "name": "stdout",
     "output_type": "stream",
     "text": [
      "1--2--3\n",
      "|  |  |\n",
      "4--5--6\n",
      "|  |  |\n",
      "7--8--9\n",
      "player 1, please select your position or Press Q to Quit \n",
      "q\n"
     ]
    }
   ],
   "source": [
    "import string\n",
    "from IPython.display import clear_output\n",
    "\n",
    "win_combinations = tuple([{1,2,3},{4,5,6},{7,8,9},{1,4,7},{2,5,8},{3,6,9},{1,5,9},{3,5,7}])\n",
    "boardlist= ['1','2','3','4','5','6','7','8','9']\n",
    "\n",
    "def initialize_board():\n",
    "    global boardlist;\n",
    "    for position in range(len(boardlist)):\n",
    "        boardlist[position]= str(position+1)\n",
    "\n",
    "def check_if_won(player_pos):\n",
    "    for eachcombination in win_combinations:\n",
    "        if  set(eachcombination) <= set(player_pos):\n",
    "            return True\n",
    "    return False\n",
    "\n",
    "def print_board():\n",
    "    for position in range(0,len(boardlist),3):\n",
    "        print(str(boardlist[position])+\"--\"+ str(boardlist[position+1])+ \"--\"+str(boardlist[position+2]))\n",
    "        if (position < 6):\n",
    "            print(\"|  |  |\")\n",
    "\n",
    "\n",
    "def get_user_choice():\n",
    "    validinput = False\n",
    "    while (validinput == False):\n",
    "        position = input()\n",
    "        if (position in string.digits) and (int(position)>0 and int(position)<10) and (boardlist[int(position)-1]==position):\n",
    "            validinput = True\n",
    "        elif(position.lower()=='q'):\n",
    "            validinput = True\n",
    "            break\n",
    "        else:\n",
    "            print(\"Please provide your next position between 1 to 9 which was also not selected earlier\")\n",
    "    return position\n",
    "\n",
    "def check_restart_game():\n",
    "    print(\"Do you want to play again. press R to restart\")\n",
    "    if(input() == 'r'):\n",
    "        clear_output()\n",
    "        initialize_board()\n",
    "        print_board()\n",
    "        return False\n",
    "    else:\n",
    "        return True\n",
    "    \n",
    "initialize_board()\n",
    "print_board()\n",
    "playerSymbol = [[\"player 1\",\"X\"],[\"player 2\",\"O\"]]\n",
    "gameover = False\n",
    "while gameover == False:\n",
    "    for playernumber in [0,1]:\n",
    "        print(playerSymbol[playernumber][0] + \", please select your position or Press Q to Quit \")\n",
    "        selectedposition = get_user_choice()\n",
    "        if( selectedposition != 'q'):\n",
    "            boardlist[int(selectedposition)-1]= playerSymbol[playernumber][1]\n",
    "        elif(selectedposition == 'q'):\n",
    "            gameover = True\n",
    "            break\n",
    "        clear_output()\n",
    "        print_board()\n",
    "        PlayerPositions = ([indexlist+1 for indexlist in range(len(boardlist))if boardlist[indexlist] == playerSymbol[playernumber][1]])\n",
    "        if(len(PlayerPositions) > 2):\n",
    "            if(check_if_won(PlayerPositions)):\n",
    "                print(playerSymbol[playernumber][0] + \" has won !!\")  \n",
    "                gameover = check_restart_game()\n",
    "                break\n",
    "            elif (len(PlayerPositions)> 4):\n",
    "                print(\"It's a Tie !!\")\n",
    "                gameover = check_restart_game()\n",
    "                break\n",
    "        else:\n",
    "            pass"
   ]
  },
  {
   "cell_type": "code",
   "execution_count": null,
   "metadata": {
    "collapsed": true
   },
   "outputs": [],
   "source": []
  },
  {
   "cell_type": "code",
   "execution_count": null,
   "metadata": {
    "collapsed": true
   },
   "outputs": [],
   "source": []
  }
 ],
 "metadata": {
  "kernelspec": {
   "display_name": "Python 3",
   "language": "python",
   "name": "python3"
  },
  "language_info": {
   "codemirror_mode": {
    "name": "ipython",
    "version": 3
   },
   "file_extension": ".py",
   "mimetype": "text/x-python",
   "name": "python",
   "nbconvert_exporter": "python",
   "pygments_lexer": "ipython3",
   "version": "3.6.1"
  }
 },
 "nbformat": 4,
 "nbformat_minor": 2
}
