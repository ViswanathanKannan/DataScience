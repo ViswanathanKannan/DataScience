{
 "cells": [
  {
   "cell_type": "code",
   "execution_count": 55,
   "metadata": {
    "collapsed": true
   },
   "outputs": [],
   "source": [
    "import tensorflow as tf"
   ]
  },
  {
   "cell_type": "code",
   "execution_count": 56,
   "metadata": {
    "collapsed": true
   },
   "outputs": [],
   "source": [
    "from tensorflow.examples.tutorials.mnist import input_data"
   ]
  },
  {
   "cell_type": "code",
   "execution_count": 57,
   "metadata": {},
   "outputs": [
    {
     "name": "stdout",
     "output_type": "stream",
     "text": [
      "Extracting /tmp/data/train-images-idx3-ubyte.gz\n",
      "Extracting /tmp/data/train-labels-idx1-ubyte.gz\n",
      "Extracting /tmp/data/t10k-images-idx3-ubyte.gz\n",
      "Extracting /tmp/data/t10k-labels-idx1-ubyte.gz\n"
     ]
    }
   ],
   "source": [
    "mnist = input_data.read_data_sets('/tmp/data/',one_hot=True)"
   ]
  },
  {
   "cell_type": "code",
   "execution_count": 58,
   "metadata": {
    "collapsed": true
   },
   "outputs": [],
   "source": [
    "import matplotlib.pyplot as plt"
   ]
  },
  {
   "cell_type": "code",
   "execution_count": 59,
   "metadata": {
    "collapsed": true
   },
   "outputs": [],
   "source": [
    "%matplotlib inline"
   ]
  },
  {
   "cell_type": "code",
   "execution_count": 60,
   "metadata": {},
   "outputs": [
    {
     "data": {
      "text/plain": [
       "<matplotlib.image.AxesImage at 0x1ee28b8b0f0>"
      ]
     },
     "execution_count": 60,
     "metadata": {},
     "output_type": "execute_result"
    },
    {
     "data": {
      "image/png": "[encoded data removed]",
      "text/plain": [
       "<matplotlib.figure.Figure at 0x1ee28943400>"
      ]
     },
     "metadata": {},
     "output_type": "display_data"
    }
   ],
   "source": [
    "image1 = mnist.train.images[1115].reshape(28,28)\n",
    "plt.imshow(image1,cmap='Greys')"
   ]
  },
  {
   "cell_type": "code",
   "execution_count": 61,
   "metadata": {},
   "outputs": [
    {
     "data": {
      "text/plain": [
       "array([ 0.,  0.,  0.,  0.,  0.,  0.,  0.,  1.,  0.,  0.])"
      ]
     },
     "execution_count": 61,
     "metadata": {},
     "output_type": "execute_result"
    }
   ],
   "source": [
    "mnist.train.labels[1115]"
   ]
  },
  {
   "cell_type": "code",
   "execution_count": 62,
   "metadata": {},
   "outputs": [
    {
     "data": {
      "text/plain": [
       "(55000, 784)"
      ]
     },
     "execution_count": 62,
     "metadata": {},
     "output_type": "execute_result"
    }
   ],
   "source": [
    "mnist.train.images.shape"
   ]
  },
  {
   "cell_type": "code",
   "execution_count": 63,
   "metadata": {
    "collapsed": true
   },
   "outputs": [],
   "source": [
    "input_features = 784 #input number of features\n",
    "number_of_samples = mnist.train.num_examples #total number of tensors\n",
    "hidden_1_nodes = 256 #number of perceptron in layer1\n",
    "hidden_2_nodes = 256 #number of perceptron in layer2\n",
    "output_classes = 10 #number of items in output"
   ]
  },
  {
   "cell_type": "code",
   "execution_count": 92,
   "metadata": {
    "collapsed": true
   },
   "outputs": [],
   "source": [
    "learning_rate = 0.001\n",
    "no_of_epochs = 15\n",
    "batchsize = 100"
   ]
  },
  {
   "cell_type": "code",
   "execution_count": 65,
   "metadata": {
    "collapsed": true
   },
   "outputs": [],
   "source": [
    "def process_perceptron(input_feature, weights, bias):\n",
    "    \n",
    "    # process inputs into layer1\n",
    "    layer1 = tf.add(tf.matmul(input_feature,weights['layer1']),bias['layer1'])\n",
    "    layer1 = tf.nn.relu(layer1)\n",
    "    \n",
    "    # Process into layer 2\n",
    "    layer2 = tf.add(tf.matmul(layer1,weights['layer2']),bias['layer2'])\n",
    "    layer2 = tf.nn.relu(layer2)\n",
    "    \n",
    "    # Process into output\n",
    "    out = tf.add(tf.matmul(layer2,weights['out']),bias['out'])\n",
    "    return out"
   ]
  },
  {
   "cell_type": "code",
   "execution_count": 66,
   "metadata": {},
   "outputs": [],
   "source": [
    "weights={'layer1':tf.Variable(tf.random_normal([input_features,hidden_1_nodes])),\n",
    " 'layer2':tf.Variable(tf.random_normal([hidden_1_nodes,hidden_2_nodes])),\n",
    " 'out':tf.Variable(tf.random_normal([hidden_2_nodes,output_classes]))}\n",
    "\n",
    "bias={'layer1':tf.Variable(tf.random_normal([hidden_1_nodes])),\n",
    " 'layer2':tf.Variable(tf.random_normal([hidden_2_nodes])),\n",
    " 'out':tf.Variable(tf.random_normal([output_classes]))}\n",
    "\n",
    "                                        "
   ]
  },
  {
   "cell_type": "code",
   "execution_count": 67,
   "metadata": {},
   "outputs": [],
   "source": [
    "x = tf.placeholder('float',[None,input_features])\n",
    "y = tf.placeholder('float',[None,output_classes])\n",
    "\n",
    "# predict model\n",
    "prediction = process_perceptron(x,weights,bias)"
   ]
  },
  {
   "cell_type": "code",
   "execution_count": 68,
   "metadata": {},
   "outputs": [],
   "source": [
    "cost = tf.reduce_mean(tf.nn.softmax_cross_entropy_with_logits(labels = y ,logits= prediction))\n",
    "optimizer = tf.train.GradientDescentOptimizer(learning_rate).minimize(cost)"
   ]
  },
  {
   "cell_type": "code",
   "execution_count": 69,
   "metadata": {},
   "outputs": [],
   "source": [
    "sess = tf.InteractiveSession()\n",
    "tf.global_variables_initializer().run()"
   ]
  },
  {
   "cell_type": "code",
   "execution_count": 93,
   "metadata": {},
   "outputs": [
    {
     "name": "stdout",
     "output_type": "stream",
     "text": [
      "epoch:0 Cost:0.0851239\n",
      "Accuracy: 0.9302\n",
      "epoch:1 Cost:1.18375\n",
      "Accuracy: 0.9311\n",
      "epoch:2 Cost:2.22915\n",
      "Accuracy: 0.931\n",
      "epoch:3 Cost:0.717818\n",
      "Accuracy: 0.9298\n",
      "epoch:4 Cost:0.0899838\n",
      "Accuracy: 0.9317\n",
      "epoch:5 Cost:0.52752\n",
      "Accuracy: 0.9321\n",
      "epoch:6 Cost:1.0187\n",
      "Accuracy: 0.9304\n",
      "epoch:7 Cost:0.779232\n",
      "Accuracy: 0.9297\n",
      "epoch:8 Cost:0.0113454\n",
      "Accuracy: 0.9308\n",
      "epoch:9 Cost:0.804971\n",
      "Accuracy: 0.932\n",
      "epoch:10 Cost:0.0560992\n",
      "Accuracy: 0.9308\n",
      "epoch:11 Cost:0.0539765\n",
      "Accuracy: 0.9314\n",
      "epoch:12 Cost:0.524941\n",
      "Accuracy: 0.9306\n",
      "epoch:13 Cost:0.248225\n",
      "Accuracy: 0.931\n",
      "epoch:14 Cost:0.649932\n",
      "Accuracy: 0.9309\n",
      "Model Completed with epoch 15\n"
     ]
    }
   ],
   "source": [
    "for epoch in range(no_of_epochs):\n",
    "\n",
    "    # Start with cost = 0.0\n",
    "    avg_cost = 0.0\n",
    "\n",
    "\n",
    "    # Convert total number of batches to integer\n",
    "    total_batch = int(number_of_samples/batchsize)\n",
    "\n",
    "    # Loop over all batches\n",
    "    for i in range(total_batch):\n",
    "        batch_x, batch_y = mnist.train.next_batch(batchsize)\n",
    "        _,c = sess.run([optimizer,cost], feed_dict={x: batch_x, y: batch_y})\n",
    "        # Compute average loss\n",
    "        avg_cost += c / total_batch\n",
    "    # Test trained model\n",
    "    correct_prediction = tf.equal(tf.argmax(prediction, 1), tf.argmax(y, 1))\n",
    "    accuracy = tf.reduce_mean(tf.cast(correct_prediction, tf.float32))\n",
    "    print(\"epoch:\"+ str(epoch) + \" Cost:\" + str(c))\n",
    "    print(\"Accuracy:\", accuracy.eval({x: mnist.test.images, y: mnist.test.labels}))\n",
    "\n",
    "print('Model Completed with epoch '+ str(no_of_epochs))"
   ]
  },
  {
   "cell_type": "code",
   "execution_count": 77,
   "metadata": {
    "collapsed": true
   },
   "outputs": [],
   "source": [
    "# Test trained model\n",
    "correct_prediction = tf.equal(tf.argmax(prediction, 1), tf.argmax(y, 1))"
   ]
  },
  {
   "cell_type": "code",
   "execution_count": 78,
   "metadata": {},
   "outputs": [],
   "source": [
    "correct_prediction = tf.cast(correct_prediction, \"float\")"
   ]
  },
  {
   "cell_type": "code",
   "execution_count": 79,
   "metadata": {
    "collapsed": true
   },
   "outputs": [],
   "source": [
    "accuracy = tf.reduce_mean(correct_prediction)"
   ]
  },
  {
   "cell_type": "code",
   "execution_count": 80,
   "metadata": {},
   "outputs": [
    {
     "name": "stdout",
     "output_type": "stream",
     "text": [
      "Accuracy: 0.8274\n"
     ]
    }
   ],
   "source": [
    "print(\"Accuracy:\", accuracy.eval({x: mnist.test.images, y: mnist.test.labels}))"
   ]
  },
  {
   "cell_type": "code",
   "execution_count": 85,
   "metadata": {},
   "outputs": [
    {
     "name": "stdout",
     "output_type": "stream",
     "text": [
      "Model Completed with epoch 15\n"
     ]
    }
   ],
   "source": []
  },
  {
   "cell_type": "code",
   "execution_count": null,
   "metadata": {
    "collapsed": true
   },
   "outputs": [],
   "source": []
  },
  {
   "cell_type": "code",
   "execution_count": null,
   "metadata": {
    "collapsed": true
   },
   "outputs": [],
   "source": []
  },
  {
   "cell_type": "code",
   "execution_count": null,
   "metadata": {
    "collapsed": true
   },
   "outputs": [],
   "source": []
  },
  {
   "cell_type": "code",
   "execution_count": null,
   "metadata": {
    "collapsed": true
   },
   "outputs": [],
   "source": []
  }
 ],
 "metadata": {
  "kernelspec": {
   "display_name": "Python 3",
   "language": "python",
   "name": "python3"
  },
  "language_info": {
   "codemirror_mode": {
    "name": "ipython",
    "version": 3
   },
   "file_extension": ".py",
   "mimetype": "text/x-python",
   "name": "python",
   "nbconvert_exporter": "python",
   "pygments_lexer": "ipython3",
   "version": "3.5.4"
  }
 },
 "nbformat": 4,
 "nbformat_minor": 2
}
